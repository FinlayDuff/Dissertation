{
 "cells": [
  {
   "cell_type": "code",
   "execution_count": 1,
   "id": "7bee9dd0",
   "metadata": {},
   "outputs": [
    {
     "name": "stderr",
     "output_type": "stream",
     "text": [
      "/Users/finlayduff/.pyenv/versions/3.10.4/envs/fakenews_venv/lib/python3.10/site-packages/tqdm/auto.py:21: TqdmWarning: IProgress not found. Please update jupyter and ipywidgets. See https://ipywidgets.readthedocs.io/en/stable/user_install.html\n",
      "  from .autonotebook import tqdm as notebook_tqdm\n",
      "Device set to use cpu\n",
      "Device set to use cpu\n",
      "Device set to use cpu\n",
      "Device set to use cpu\n",
      "Device set to use cpu\n",
      "Device set to use cpu\n",
      "Device set to use cpu\n",
      "Device set to use cpu\n",
      "Device set to use cpu\n",
      "Device set to use cpu\n"
     ]
    }
   ],
   "source": [
    "import os\n",
    "os.chdir(\"/Users/finlayduff/Documents/BATH MSc/Dissertation\")\n",
    "from core.followup_analysis_tools import FOLLOWUP_TOOLS"
   ]
  },
  {
   "cell_type": "markdown",
   "id": "af1f4694",
   "metadata": {},
   "source": [
    "# Validated"
   ]
  },
  {
   "cell_type": "markdown",
   "id": "5c6219e2",
   "metadata": {},
   "source": [
    "## Polarisation"
   ]
  },
  {
   "cell_type": "code",
   "execution_count": 4,
   "id": "af23710a",
   "metadata": {},
   "outputs": [],
   "source": [
    "polarisation_examples = [\n",
    "    (\"\"\"For decades, our society has been under attack by a relentless agenda bent on dismantling everything that once held us together. The so-called “progressive” movement, masquerading as a force for good, has infiltrated schools, media, and even the judiciary with ideas that promote division and chaos. Our children are being taught to hate their own country, their own history, and even their own families. What kind of future are we building when basic truths are twisted in the name of “inclusion”?\n",
    "\n",
    "These radicals don’t want diversity — they want dominance. They label anyone who disagrees with them a bigot or worse. Meanwhile, they shut down free speech, cancel anyone with an opposing viewpoint, and push a dangerous ideology that divides people into victims and oppressors. If you love your country, you’re labelled a nationalist; if you believe in personal responsibility, you’re called oppressive. These are deliberate tactics to silence dissent.\n",
    "\n",
    "We must wake up. This is not just politics — it’s a war for the soul of our nation. The mainstream media plays along, parroting the language of social justice warriors and ignoring the real consequences faced by working families. Our traditions, our faith, and our freedoms are being eroded. It’s time to take a stand before there’s nothing left to defend. This is not the time for neutrality — you’re either part of the solution, or you’re enabling the decay.\"\"\",\"polarising\"),\n",
    "    (\"\"\"\n",
    "    The City Council approved a new infrastructure budget on Tuesday, allocating £58 million to various transport and community development projects for the 2025 fiscal year. The budget passed with a 12–3 vote after several weeks of debate and public consultation. Among the key items funded are road resurfacing across six boroughs, an expansion of the city’s bike lane network, and the introduction of energy-efficient street lighting.\n",
    "\n",
    "Mayor Anita Singh stated, “This budget reflects our commitment to sustainable development and safer communities.” The plan also includes £4.2 million for improving pedestrian access and updating traffic signals in high-congestion areas. Some concerns were raised by Councillor Michael Hayes regarding long-term maintenance funding, but the council agreed to review this in the Q2 revision.\n",
    "\n",
    "Local residents can expect works to begin as early as March 2025, pending contractor selection and weather conditions. Community engagement sessions will be held next month to address concerns about construction timelines and potential disruptions. The full budget is available online for public review, with a summary included in the city’s monthly newsletter.\n",
    "\"\"\",\"non-polarising\"),\n",
    "(\"\"\"\n",
    "    Time and again, the mainstream media proves itself to be a corrupt mouthpiece for corporate elites and government spin doctors. It’s no longer about reporting the truth — it’s about manufacturing narratives. Whether it’s covering up scandals involving favoured politicians or pushing endless fear-mongering around manufactured crises, today’s media is complicit in deceiving the public. They cherry-pick facts, amplify fringe voices that fit their agenda, and suppress dissenting opinions.\n",
    "\n",
    "Just look at how they handled the latest protests: coverage was wildly inconsistent, painting one side as heroes and the other as dangerous radicals, depending entirely on political affiliation. Balanced journalism has been replaced by ideological activism, and the line between news and opinion has been erased. Ask yourself: when was the last time a major outlet reported on a grassroots issue without twisting it to fit a predetermined frame?\n",
    "\n",
    "People are waking up to this hypocrisy. Alternative media is on the rise because it dares to question the narrative. The establishment can no longer control the flow of information, and they’re terrified. That’s why censorship is increasing — it’s not about protecting the public, it’s about preserving power. Don’t trust the people who told you masks wouldn’t help and then said you were evil for not wearing one. The truth isn’t coming from your television — it’s coming from those who refuse to be silenced.\n",
    "\"\"\",\"polarising\"),\n",
    "(\"\"\"\n",
    "The National Health Service has released updated guidance for managing cholesterol, with new recommendations on lifestyle changes and statin prescriptions. The report, developed by a panel of cardiologists and public health researchers, focuses on prevention through diet and exercise, as well as updated thresholds for medication eligibility.\n",
    "\n",
    "According to Dr Emma Patel of University College London, “These updates reflect the most recent evidence on cardiovascular risk and the long-term benefits of early intervention.” The guidance suggests increased monitoring for patients over 45, and more proactive risk assessments in communities with historically higher rates of heart disease.\n",
    "\n",
    "Public consultations were held over six months, with input from clinicians and patients alike. The report emphasises a patient-centred approach and highlights the importance of culturally sensitive dietary recommendations. A public information campaign is expected to begin in May, with leaflets, digital resources, and GP engagement sessions. Health ministers stated that no additional funding would be required for implementation at this time.\n",
    "\"\"\",\"non-polarising\"),\n",
    "]"
   ]
  },
  {
   "cell_type": "code",
   "execution_count": 5,
   "id": "d791af1d",
   "metadata": {},
   "outputs": [
    {
     "name": "stdout",
     "output_type": "stream",
     "text": [
      "prediction polarization 0.9978649020195007\n",
      "actual: polarising\n",
      "prediction non-polarization 0.9998101592063904\n",
      "actual: non-polarising\n",
      "prediction polarization 0.9972856044769287\n",
      "actual: polarising\n",
      "prediction non-polarization 0.9998086094856262\n",
      "actual: non-polarising\n"
     ]
    }
   ],
   "source": [
    "for example in polarisation_examples:\n",
    "    prediction = FOLLOWUP_TOOLS['polarising_language']['method']({\"article_content\": example[0]})['results']\n",
    "    print(\"prediction\", prediction['label'], prediction['confidence'])\n",
    "    print(f\"actual: {example[1]}\")"
   ]
  },
  {
   "cell_type": "markdown",
   "id": "7aaf4992",
   "metadata": {},
   "source": [
    "## Bias"
   ]
  },
  {
   "cell_type": "code",
   "execution_count": 11,
   "id": "8aa39f0d",
   "metadata": {},
   "outputs": [],
   "source": [
    "bias_examples = [\n",
    "    (\n",
    "        # Biased Example 1\n",
    "        \"\"\"Every morning, the news assaults you with an agenda that leaves no room for dissent or diverse opinions. The headlines are not written to inform but to incite anger, painting a picture of a society under siege by corrupt elites and hidden forces. In every report, there is a deliberate focus on the negatives, with every trivial event exaggerated to appear as part of a grand, orchestrated assault on traditional values. Journalists repeatedly use inflammatory language, describing opponents as sinister conspirators and supporters of change as dangerous fanatics. The language is fervent and one-sided, with emotional adjectives overwhelming the factual content. It is as if every story is designed to provoke an immediate reaction, turning complex issues into simple battles of good versus evil.\n",
    "\n",
    "In the political realm, this approach is even more stark. Every government decision is portrayed as an unequivocal mistake of a tyrannical administration determined to trample on personal freedoms. Editorials decry policy changes with words like “disgraceful” and “catastrophic,” ignoring any evidence to the contrary. Interviews with experts are replaced by monologues that serve only to reaffirm a predetermined worldview. The news presenters themselves adopt a tone of moral outrage, often raising their voices and using emphatic gestures to drive home the message. This relentless barrage of one-dimensional reporting transforms public opinion, leaving viewers with the disturbing impression that there is only one acceptable interpretation of events—one that supports a radical, dogmatic narrative.\n",
    "\n",
    "Moreover, social media amplifies this effect. Every tweet, blog post, or video clip shared by major outlets further polarizes the audience, making compromise or thoughtful discussion nearly impossible. The repetition of these emotionally charged messages, day after day, creates an environment where intellectual debate is suppressed and critical thinking gives way to passionate, almost tribal, loyalty. In this media ecosystem, alternative perspectives are not welcomed; they are demonized and dismissed without proper consideration. Ultimately, the effect is a society gripped by an unyielding fervor, where every piece of news is a call to arms, and every dissenting opinion is met with hostility. The overall narrative is unmistakably engineered to divide and control, leaving the audience little opportunity to see the full picture or to question the underlying motives of those in power.\"\"\",\n",
    "        \"BIASED\"\n",
    "    ),\n",
    "    (\n",
    "        # Biased Example 2\n",
    "        \"\"\"The current wave of reporting shouts a single, unchallenged narrative into the ears of viewers and readers alike. Every article, broadcast, and online post seems carefully choreographed to create an atmosphere of constant alarm and indignation. In this environment, even mundane public events are distorted and twisted into symbols of a wider cultural warfare. Words of accusation, loaded with severe moral judgments and dramatic flair, are used to label certain groups as unpatriotic and irresponsible. The language frequently borders on the apocalyptic, warning that our way of life is under immediate threat. Interviews and debates are reduced to a series of rhetorical flourishes in which the only acceptable position is the one that fits within the established, relentless narrative.\n",
    "\n",
    "Political reporting, in particular, is not spared. Every governmental decision is slammed as evidence of an inept bureaucracy hell-bent on betraying its citizens. Facts and figures are selectively cherry-picked to confirm the preconceived storyline, while dissenting viewpoints are trivialized or ignored altogether. Television anchors and newspaper columnists speak with a tone of moral superiority and righteous indignation, as if they are the sole guardians of the truth against a vast, corrupt conspiracy. The reporting is unrelentingly aggressive, aimed less at conveying information and more at mobilizing anger and cementing a divisive ideology. It leaves a clear impression: there is only one way to view the world, and any deviation from that is unacceptable.\n",
    "\n",
    "This narrative is pushed not only on traditional media outlets but also through a flood of online content. Social media feeds, in particular, serve as a megaphone for these one-sided messages, ensuring that any nuance is lost in the process. Every post reinforces the idea that the opposition is not simply wrong, but morally reprehensible. The cumulative effect is a culture where reasoned debate is replaced by emotional rallies, and the truth becomes a casualty of this unyielding crusade. The reporting is clearly not neutral—it is a weaponized form of communication designed solely to drive an agenda.\"\"\",\n",
    "        \"BIASED\"\n",
    "    ),\n",
    "    (\n",
    "        # Neutral Example 1\n",
    "        \"\"\"A recent comprehensive report from a consortium of independent research organizations outlines the latest findings on urban development and public policy. Over several months, a team of analysts gathered data from numerous sources including government statistics, academic studies, and public surveys. The findings are presented with detailed explanations and are supported by visual data representations such as charts, graphs, and tables. For instance, one section of the report explains the observed improvements in public transportation systems across several major cities, citing specific metrics like reduced commute times and increased passenger satisfaction. The report carefully compares these improvements to previous years, providing context and acknowledging limitations in the data collection.\n",
    "\n",
    "Interview excerpts from subject matter experts are interwoven throughout the document, presenting a range of perspectives on the issue. Some experts express cautious optimism about the recent developments, while others stress the need for further study and continuous monitoring. The narrative is constructed in a measured tone, avoiding any overtly persuasive language. Instead, it focuses on presenting factual information and balanced arguments. Methodologies are described in detail in an appendix, ensuring that readers can verify the sources and understand the basis of the conclusions. Additionally, the report highlights areas where the data is inconclusive, recommending that further research is conducted to fill these gaps.\n",
    "\n",
    "Throughout the report, efforts are made to remain impartial. The language is formal, and conflicting viewpoints are discussed in separate sections to prevent overlap. The structure is logical and methodical, which helps the reader to follow the progression of ideas. The goal of the report is clearly to inform, by providing a well-rounded examination of the subject without urging any particular conclusion. The result is a document that serves as a reliable resource for policymakers, academics, and the public alike. By emphasizing transparency and comprehensive analysis, the report embodies a commitment to objective journalism and rigorous research standards.\"\"\",\n",
    "        \"NEUTRAL\"\n",
    "    ),\n",
    "    (\n",
    "        # Neutral Example 2\n",
    "        \"\"\"An in-depth study recently published by a team of university researchers examines the economic and social impacts of recent policy changes on small businesses in urban areas. The study is based on data collected from over 500 small enterprises over a period of three years. Researchers conducted surveys, analyzed financial reports, and held structured interviews with business owners. The report presents its findings in a clear and systematic manner, including statistical analyses and confidence intervals for key metrics such as revenue growth, employment rates, and customer satisfaction. \n",
    "\n",
    "The document is divided into several sections. The first section describes the background and context of the study, outlining the specific policy measures that were introduced and the expected outcomes. Subsequent sections detail the methodology and present the raw data in organized tables and charts. The study’s authors discuss both the positive and negative outcomes observed; for example, while some businesses experienced a significant boost in growth, others faced challenges due to increased regulatory burdens. Throughout the report, every claim is supported by quantitative data, and any assumptions are clearly stated. The discussion section is particularly balanced, as it features commentaries from both industry experts and government representatives, as well as dissenting opinions from academic critics.\n",
    "\n",
    "One notable aspect of the study is its focus on transparency. The researchers have made all raw data available in an online repository and have provided detailed documentation of the statistical methods used. The paper concludes with a summary of the key findings, emphasizing the complexity of the issue and recommending further studies to explore long-term trends. The tone remains neutral throughout the report, and the language used is strictly technical and factual. Overall, the study is presented in a way that aims to inform policymakers and stakeholders objectively, without endorsing any specific viewpoint or agenda.\"\"\",\n",
    "        \"NEUTRAL\"\n",
    "    ),\n",
    "]"
   ]
  },
  {
   "cell_type": "code",
   "execution_count": 12,
   "id": "ff1d74c9",
   "metadata": {},
   "outputs": [
    {
     "name": "stdout",
     "output_type": "stream",
     "text": [
      "[[{'label': 'BIASED', 'score': 0.6313573718070984}, {'label': 'NEUTRAL', 'score': 0.3686425983905792}]]\n",
      "prediction BIASED 0.6313573718070984\n",
      "actual: BIASED\n",
      "[[{'label': 'NEUTRAL', 'score': 0.5075744390487671}, {'label': 'BIASED', 'score': 0.4924255609512329}]]\n",
      "prediction NEUTRAL 0.5075744390487671\n",
      "actual: BIASED\n",
      "[[{'label': 'NEUTRAL', 'score': 0.5588482022285461}, {'label': 'BIASED', 'score': 0.44115179777145386}]]\n",
      "prediction NEUTRAL 0.5588482022285461\n",
      "actual: NEUTRAL\n",
      "[[{'label': 'NEUTRAL', 'score': 0.5899027585983276}, {'label': 'BIASED', 'score': 0.41009730100631714}]]\n",
      "prediction NEUTRAL 0.5899027585983276\n",
      "actual: NEUTRAL\n"
     ]
    }
   ],
   "source": [
    "for example in bias_examples:\n",
    "    prediction = FOLLOWUP_TOOLS['bias']['method']({\"article_content\": example[0]})['results']\n",
    "    print(\"prediction\", prediction['label'], prediction['confidence'])\n",
    "    print(f\"actual: {example[1]}\")"
   ]
  },
  {
   "cell_type": "markdown",
   "id": "6b575780",
   "metadata": {},
   "source": [
    "## Informal Tone"
   ]
  },
  {
   "cell_type": "code",
   "execution_count": 13,
   "id": "1aca7fb3",
   "metadata": {},
   "outputs": [],
   "source": [
    "informal_tone_examples = [\n",
    "    (\n",
    "        \"\"\"Hey guys, let me tell you about the wild ride I had last weekend! I was hanging out with some friends at this local festival that was, honestly, off the charts. Everything was so chill and laid-back – you know, that feeling when the music is loud, the people are hyped, and it all just seems to flow without any of the stress you deal with during the week. I grabbed a bite from a food truck that was serving up these amazing tacos, and everyone was just laughing and talking like we were all part of one huge, unstoppable family. There were some super cool street performances that really made the place come alive, and I couldn’t help but join in on the fun.  \n",
    "        \n",
    "The vibes were totally infectious, and I kept thinking about how awesome it is when people can just drop their worries and get lost in the moment. Sure, there were some long lines and a bit of chaos in the crowd, but that’s all part of the charm, right? Everything felt genuine and spontaneous, and it reminded me that life isn’t always about the polished, picture-perfect moments you see online. Instead, it’s these raw, unedited experiences that really stick with you. I left the festival with a huge smile on my face, feeling way more connected to my town and excited for what the next adventure might bring. And honestly, isn’t that what life should be about? Just going out there, having fun, and making memories without worrying about every little detail – because sometimes, you just gotta live in the moment and enjoy it for what it is!\"\"\",\n",
    "        \"informal\"\n",
    "    ),\n",
    "    (\n",
    "        \"\"\"So, I was just chillin' with my crew at this new café downtown, and let me tell you, it was lit! The place had these funky, mismatched chairs and quirky art on the walls that made it feel super cozy and welcoming. We were all just chatting about random stuff – from our favorite binge-worthy shows to the latest music drops – and the conversation kept bouncing around like a ping-pong match. There were moments when we burst out laughing so hard we almost couldn’t catch our breath, and every minute felt like pure, unfiltered fun.  \n",
    "        \n",
    "You know what’s cool? The staff was so friendly and down-to-earth, treating every customer like a long-time buddy rather than just another person passing through. It made the whole experience feel personal and real. I even ended up chatting with the barista about some local art events, and she gave me the lowdown on a hidden gem of a gallery that I had never heard of before. It was all so spontaneous and relaxed – nothing fancy or overthought, just good vibes all around. By the time we left, I was already planning our next meetup, excited about the idea of discovering even more cool spots together. Moments like these remind you that life doesn’t always have to be so formal or structured – sometimes, the best parts are the ones where you just let go and enjoy the ride.\"\"\",\n",
    "        \"informal\"\n",
    "    ),\n",
    "    (\n",
    "        \"\"\"In a recent comprehensive review conducted by an independent research consortium, the latest trends in urban development were meticulously examined using robust statistical methods and empirical data. The study, which spanned over a period of eighteen months, involved the collection of extensive data sets from various municipal sources, academic institutions, and public records. Researchers applied rigorous analytical techniques to assess the impact of recent infrastructure investments on local economic growth and community well-being. Detailed charts, graphs, and tables were generated to illustrate the progressive trends observed over the study period, and the findings were subsequently peer-reviewed to ensure their accuracy and reliability.\n",
    "\n",
    "The report is presented in a systematic manner, beginning with an executive summary that outlines the key findings, followed by an in-depth analysis segmented into relevant thematic sections. For instance, one section elaborates on the correlation between improved public transportation networks and increased employment opportunities in suburban areas, supported by quantitative evidence and corroborated by expert testimonies. Another section critically evaluates the effect of modernized urban planning on environmental sustainability, detailing the incremental reductions in urban carbon footprints and the enhancement of green public spaces. Furthermore, the document provides a balanced discussion on the challenges that remain, including resource allocation inefficiencies and emerging fiscal pressures. The language used throughout the report is formal and precise, reflecting both the complexity of the subject matter and a commitment to unbiased reporting of facts. This methodical approach serves to inform policy decisions and contribute to the broader academic discourse on sustainable urban development.\"\"\",\n",
    "        \"formal\"\n",
    "    ),\n",
    "    (\n",
    "        \"\"\"A recent publication by an esteemed academic institution presents a detailed analysis of public policy reforms implemented at the municipal level. The study employs an array of quantitative and qualitative research methodologies to evaluate the efficacy of these reforms in promoting economic stability and social equity. The researchers collected a wide variety of data, including census statistics, financial reports, and structured interviews with local government officials, thereby ensuring a comprehensive assessment of the policy outcomes. Each component of the study is thoroughly documented, with methodological details provided to allow for independent verification and replication.  \n",
    "\n",
    "In the initial sections, the report delineates the historical context of the policy changes and explains the theoretical frameworks that underpin the analysis. Subsequent chapters present a series of statistical evaluations, employing regression analysis and hypothesis testing to rigorously determine the significance of various policy variables on economic indicators such as employment rates and average household income. The discussion section synthesizes these findings within the context of existing literature, while also addressing potential limitations and proposing avenues for future research. The narrative is conveyed in a measured tone, characterized by a formal diction and a clear emphasis on objectivity. Throughout the document, every claim is substantiated by concrete evidence, and the overall structure is designed to facilitate a balanced and scholarly examination of the issues at hand. This commitment to precision and transparency underscores the reliability of the findings and the credibility of the scholarly inquiry.\"\"\",\n",
    "        \"formal\"\n",
    "    ),\n",
    "]"
   ]
  },
  {
   "cell_type": "code",
   "execution_count": 14,
   "id": "fc52fef9",
   "metadata": {},
   "outputs": [
    {
     "name": "stdout",
     "output_type": "stream",
     "text": [
      "[[{'label': 'informal', 'score': 0.7624219059944153}, {'label': 'formal', 'score': 0.23757809400558472}]]\n",
      "prediction informal 0.7624219059944153\n",
      "actual: informal\n",
      "[[{'label': 'informal', 'score': 0.7553629875183105}, {'label': 'formal', 'score': 0.24463702738285065}]]\n",
      "prediction informal 0.7553629875183105\n",
      "actual: informal\n",
      "[[{'label': 'formal', 'score': 0.9969704151153564}, {'label': 'informal', 'score': 0.0030295352917164564}]]\n",
      "prediction formal 0.9969704151153564\n",
      "actual: formal\n",
      "[[{'label': 'formal', 'score': 0.996623158454895}, {'label': 'informal', 'score': 0.00337688229046762}]]\n",
      "prediction formal 0.996623158454895\n",
      "actual: formal\n"
     ]
    }
   ],
   "source": [
    "for example in informal_tone_examples:\n",
    "    prediction = FOLLOWUP_TOOLS['informal_tone']['method']({\"article_content\": example[0]})['results']\n",
    "    print(\"prediction\", prediction['label'], prediction['confidence'])\n",
    "    print(f\"actual: {example[1]}\")"
   ]
  },
  {
   "cell_type": "markdown",
   "id": "c448ed13",
   "metadata": {},
   "source": [
    "## Personal Perspective"
   ]
  },
  {
   "cell_type": "code",
   "execution_count": 18,
   "id": "fbcb4115",
   "metadata": {},
   "outputs": [],
   "source": [
    "personal_perspective_examples = [\n",
    "    (\n",
    "        # Personal Perspective Example 1\n",
    "        \"\"\"I remember the first time I stepped into the vibrant chaos of the downtown art festival—it completely transformed the way I viewed creativity. I had always considered myself a reserved person, cautious about stepping outside my comfort zone, but that day, something shifted inside me. As I wandered from one installation to another, I found myself drawn to the raw, unfiltered energy that emanated from each exhibit. I was not just an observer; I was swept up in the passion of the artists. Their stories, their struggles, and their triumphs resonated with me on a deeply personal level. I felt an overwhelming connection with a painter who spoke about the pain of loss, and the way she transformed that sorrow into bold colors and daring strokes was nothing short of inspirational.\n",
    "\n",
    "Throughout that afternoon, I documented every detail with my phone and an old notebook—a habit I’ve had since my college days when every new experience felt like a revelation. I scribbled down my feelings and reactions in real time, often pausing to reflect on how much this experience was altering my perspective on life and art. I found myself questioning not only my past attitudes toward creative expression but also the very nature of how I viewed the world. Every moment was vivid: the laughter of strangers, the passionate debates among the artists, and even the quiet moments when I sat alone with my thoughts on a secluded bench. By the end of the day, I left the festival with more than just a collection of images; I carried with me an entirely new way to see both art and life. This experience remains one of my most cherished memories, and I often find myself returning to that day in my recollections, drawing on its emotional richness to inspire my own creative endeavours.\"\"\",\n",
    "        \"subjective\"\n",
    "    ),\n",
    "    (\n",
    "        # Personal Perspective Example 2\n",
    "        \"\"\"I’ve always believed that life is a series of lessons learned through personal experience, and my recent journey to the countryside was no exception. On a spontaneous decision born out of a deep desire to escape the relentless pace of city life, I rented a small cottage surrounded by rolling fields and dense woodlands. From the moment I arrived, I was overwhelmed by a sense of peace that I hadn’t known before. Waking up to the sound of birdsong and the gentle rustle of leaves in the wind made me acutely aware of how disconnected I had become from nature. I spent long hours wandering the trails, feeling the earth under my feet and rediscovering the subtle beauties of the natural world.\n",
    "\n",
    "Every day was a personal revelation. I took time to sit by a quiet stream and simply listen—not to record, not to analyse, but to live in the present. I journalled extensively about these reflections, writing about how the simplicity and profound silence helped me reassess my priorities. I realized that the constant noise and digital bombardment of modern life had dulled my sensitivity to the world around me. This journey wasn’t just a physical escape but an emotional catharsis, as it allowed me to reconnect with my inner self. I returned home with a renewed sense of purpose, determined to integrate more moments of quiet contemplation into my daily routine and to nurture the creative parts of myself that had been buried under years of routine. This personal transformation, so intimate and life-affirming, continues to guide my decisions and infuse my day-to-day life with a depth I had long forgotten.\"\"\",\n",
    "        \"subjective\"\n",
    "    ),\n",
    "    (\n",
    "        # Non-Personal (Objective) Perspective Example 1\n",
    "        \"\"\"A recent investigation into regional infrastructure projects has yielded comprehensive data on performance metrics and project outcomes. The report, compiled over an 18-month period, analyzes the progress of multiple initiatives aimed at improving transportation, energy efficiency, and public safety. Data were gathered from various official sources, including municipal records, independent audits, and publicly available financial statements. The study presents a detailed breakdown of each project, including planned versus actual expenditures, timelines, and performance evaluations based on standard benchmarks.\n",
    "\n",
    "The analysis employs quantitative methods, including statistical regression and trend analysis, to assess the effectiveness of the implemented initiatives. Findings indicate that projects executed with higher transparency and consistent oversight tend to achieve their objectives more reliably. Moreover, the report highlights that investments in modern technology and infrastructure maintenance are significantly correlated with improved public satisfaction, as measured by standardized surveys administered periodically. The data further suggest that areas with stronger inter-agency coordination demonstrate higher efficiency in resource allocation and execution. Detailed charts, tables, and graphs are provided to illustrate the correlation between budget allocation and project performance, and these visual aids serve to complement the narrative in a manner that facilitates independent review and verification of the conclusions drawn.\n",
    "\n",
    "Overall, the report adopts an impartial tone throughout, focusing on factual evidence and employing a methodological framework that emphasizes replicability. The document makes clear distinctions between observed outcomes and areas requiring further research. Recommendations based on the study are supported by the data, and potential sources of error are discussed in depth. This systematic approach is intended to offer policymakers and stakeholders an objective basis on which to assess ongoing and future infrastructure investments, with the goal of optimizing public benefit and resource efficiency.\"\"\",\n",
    "        \"objective\"\n",
    "    ),\n",
    "    (\n",
    "        # Non-Personal (Objective) Perspective Example 2\n",
    "        \"\"\"An extensive review of fiscal policy changes across several municipalities has been released by a team of government analysts. This review systematically examines the causes and effects of adjustments in tax legislation over the past five years. The document is structured into multiple sections, each dedicated to a distinct aspect of fiscal reform, such as revenue collection, public expenditure, and the impact on local economic growth. Data were collected from a wide array of sources, including government databases, public records, and third-party financial audits, ensuring that the results are based on verifiable and objective evidence.\n",
    "\n",
    "The report details the methodology used, including sampling procedures, data normalization techniques, and statistical models that were applied to isolate the effect of the policy changes from other economic variables. Findings are presented in a clear, factual manner, supported by numerous tables, graphs, and statistical summaries. The analysis reveals that municipalities that adopted a more balanced approach to tax reform experienced more stable economic growth compared to those that made more radical changes. Furthermore, the review notes that the successful regions tended to implement reforms in consultation with independent experts and had robust oversight mechanisms in place.\n",
    "\n",
    "Each section of the review is methodically written, with a consistent tone that avoids subjective language or personal commentary. The final recommendations are drawn exclusively from the accumulated data and are presented as policy options rather than personal opinions. The report concludes by outlining areas where further research is necessary, particularly in understanding the long-term fiscal impacts of the reforms. This presentation style ensures that the conclusions can be independently validated and that the overall document serves as a reliable resource for future policy formulation.\"\"\",\n",
    "        \"objective\"\n",
    "    ),\n",
    "]"
   ]
  },
  {
   "cell_type": "code",
   "execution_count": 19,
   "id": "06fb2b23",
   "metadata": {},
   "outputs": [
    {
     "name": "stdout",
     "output_type": "stream",
     "text": [
      "[[{'label': 'LABEL_1', 'score': 0.5818235874176025}, {'label': 'LABEL_0', 'score': 0.4181763827800751}]]\n",
      "prediction subjective 0.5818235874176025\n",
      "actual: subjective\n",
      "[[{'label': 'LABEL_1', 'score': 0.5211489796638489}, {'label': 'LABEL_0', 'score': 0.47885099053382874}]]\n",
      "prediction subjective 0.5211489796638489\n",
      "actual: subjective\n",
      "[[{'label': 'LABEL_0', 'score': 0.9023656845092773}, {'label': 'LABEL_1', 'score': 0.09763431549072266}]]\n",
      "prediction objective 0.9023656845092773\n",
      "actual: objective\n",
      "[[{'label': 'LABEL_0', 'score': 0.9069786071777344}, {'label': 'LABEL_1', 'score': 0.0930214375257492}]]\n",
      "prediction objective 0.9069786071777344\n",
      "actual: objective\n"
     ]
    }
   ],
   "source": [
    "for example in personal_perspective_examples:\n",
    "    prediction = FOLLOWUP_TOOLS['personal_perspective']['method']({\"article_content\": example[0]})['results']\n",
    "    print(\"prediction\", prediction['label'], prediction['confidence'])\n",
    "    print(f\"actual: {example[1]}\")"
   ]
  },
  {
   "cell_type": "markdown",
   "id": "15eb91a9",
   "metadata": {},
   "source": [
    "## Call To Action"
   ]
  },
  {
   "cell_type": "code",
   "execution_count": 31,
   "id": "059a54b0",
   "metadata": {},
   "outputs": [],
   "source": [
    "call_to_action_examples = [\n",
    "    (\n",
    "        # Call-to-Action Example 1\n",
    "        \"\"\"In today’s rapidly changing world, the future is uncertain—and the time for action is now. We are standing at a critical juncture where every decision made by individuals and communities will define the course of our society for generations to come. It is no longer acceptable to be passive or wait for change to come from others. We must take charge of our destiny by coming together to confront the challenges we face head-on. I urge you to join the movement that is reshaping our cities and our communities. Volunteer your time, share your ideas, and support the initiatives that aim to build a better, more sustainable future. Whether it is through community cleanups, local political engagement, or supporting renewable energy projects, your involvement can make a profound difference.\n",
    "\n",
    "Now is the moment to cast aside apathy and to mobilise for meaningful change. Do not let complacency or fear paralyse you; every action, no matter how small, contributes to a broader transformation. Imagine a future where our children can breathe cleaner air, where social justice is not a distant dream but a lived reality, and where local communities flourish due to collective effort. This is the future we all deserve, and it is within our grasp if we dare to act. Therefore, I call on you: attend the local town hall meeting this Saturday, sign the petition for environmental justice, and spread the word on social media. Encourage your friends, family, and neighbours to join you, because united, we become an unstoppable force for progress.\n",
    "\n",
    "We are at a tipping point, and the power to create change lies in our hands. Do not simply hope that someone else will solve these critical issues. Instead, stand up and be counted. Step outside your comfort zone and make your voice heard. Act now—register for volunteer programmes, donate to causes that promote community resilience, and participate in grassroots initiatives. Remember, our collective action today shapes the society of tomorrow. Let us not waste another moment. The time to demand accountability, equity, and sustainability is here. Together, we can drive the change that is desperately needed. Your participation is the catalyst for a brighter future—embrace this opportunity and lead the way.\"\"\",\n",
    "        \"call_to_action\"\n",
    "    ),\n",
    "    (\n",
    "        # Call-to-Action Example 2\n",
    "        \"\"\"Every single day, we are presented with stories of communities facing unprecedented challenges—from environmental degradation and economic inequality to social injustice and political disengagement. These are not issues that will resolve themselves; they require decisive, collective action now more than ever. As citizens of a connected global community, you have the power to bring about change by stepping forward and getting involved. I am urging you to not only stay informed but also to actively participate in the solutions that are within your reach. Whether you decide to volunteer, advocate for policy reforms, or simply educate those around you, every action plays a vital role in the betterment of society.\n",
    "\n",
    "The need for immediate action cannot be overstated. Our environment is deteriorating at an alarming rate, and the voices of those most affected are often drowned out by inaction or indifference. This is a clarion call to every individual who believes in justice, equity, and a sustainable future. Now is the time to take practical steps: join local environmental groups, support renewable energy projects, and contribute your expertise to community planning efforts. Furthermore, you can participate in local government by attending public hearings and voicing your opinions on initiatives that affect your community. Public accountability is the cornerstone of a fair society, and your active involvement is a crucial part of that process.\n",
    "\n",
    "I implore you, do not wait for others to lead the way. Your involvement matters—each signature on a petition, each volunteer hour, each shared message on social media contributes to a growing movement. Embrace the responsibility that comes with being an engaged citizen. Empower your community by organizing meetings, hosting discussions, and forging partnerships with like-minded individuals and organizations. Our future hinges on our ability to act decisively today. Join us in this historic moment of transformation. Let your action be the spark that ignites change and inspires others to join in building a resilient and thriving society. The call is clear: step forward, get involved, and help shape a better future for all.\"\"\",\n",
    "        \"call_to_action\"\n",
    "    ),\n",
    "    (\n",
    "        # Non-Call-to-Action Example 1\n",
    "        \"\"\"A comprehensive report released last month by an independent research institute details the recent developments in urban transportation and environmental planning. The study, which spans over a period of twenty-four months, provides a detailed analysis of the impact that various factors have on public transit performance and air quality in metropolitan areas. Data were collected from several large cities, and the report includes extensive statistical analyses, graphical representations, and in-depth discussions of the observed trends. Researchers describe how increased investment in public infrastructure, combined with improvements in traffic management systems, has led to measurable changes in commute times and overall urban efficiency.\n",
    "\n",
    "The report is methodically structured into several sections. The first section offers an executive summary that outlines the key findings of the study. Subsequent sections delve into the methodology, explaining the data collection process, the types of sensors used for air quality measurement, and the analytical techniques employed to interpret the data. The researchers employed both quantitative and qualitative methods, including surveys of local residents and interviews with city officials. The study also features comparative analyses with previous years’ data to identify long-term trends. Furthermore, the report provides a discussion on the potential challenges facing urban planners, such as budget constraints and logistical issues related to the integration of emerging technologies.\n",
    "\n",
    "In addition, the report includes appendices that offer raw data and detailed statistical outputs, enabling independent verification of the results. The language used in the report is formal, technical, and objective. It is designed to inform policymakers, urban developers, and the academic community by providing a comprehensive overview of the current state of urban environmental affairs. No explicit recommendations for further action are provided, as the purpose of the document is to present the findings in a neutral, factual manner, without urging specific changes or interventions from the reader.\"\"\",\n",
    "        \"non_call_to_action\"\n",
    "    ),\n",
    "    (\n",
    "        # Non-Call-to-Action Example 2\n",
    "        \"\"\"An extensive study conducted by a consortium of universities has been published, examining the socioeconomic effects of recent fiscal reforms in regional governments. The study spans a duration of three years and involves detailed examinations of policy changes, statistical analyses, and qualitative interviews with public officials and community leaders. The authors of the report present a thorough historical overview of the reforms, including the rationale behind their implementation and the anticipated outcomes from an economic standpoint. Data were sourced from government publications, independent financial audits, and a series of meticulously conducted surveys across different demographic groups.\n",
    "\n",
    "The report is divided into several chapters, each addressing a distinct aspect of the reforms. The first chapter outlines the background, providing context about the economic conditions that necessitated the policy changes. Following chapters detail the methodology employed, with specific attention given to the sampling techniques and statistical measures used to ensure the reliability of the conclusions drawn. Graphs, charts, and tables are interspersed throughout the document to visually represent the correlations found between fiscal policies and key economic indicators, such as employment rates, income levels, and public expenditure patterns.\n",
    "\n",
    "Throughout the document, the authors maintain a strictly factual tone, refraining from speculative commentary or subjective endorsements of the policies. Their approach is analytical and dispassionate, focusing solely on the empirical evidence and the rigor of the research methodology. The study concludes with a summary that outlines the primary findings and suggests areas where further research may be needed. Overall, the report serves as an objective resource for economists, policymakers, and academic researchers by providing a balanced, data-driven examination of the fiscal reforms without prompting any particular public or political response.\"\"\",\n",
    "        \"non_call_to_action\"\n",
    "    ),\n",
    "]"
   ]
  },
  {
   "cell_type": "code",
   "execution_count": 32,
   "id": "f34af5bf",
   "metadata": {},
   "outputs": [
    {
     "name": "stdout",
     "output_type": "stream",
     "text": [
      "[[{'label': 'Contains CTA', 'score': 0.9538002014160156}, {'label': 'Does NOT contain CTA', 'score': 0.046199772506952286}], [{'label': 'Contains CTA', 'score': 0.9938763976097107}, {'label': 'Does NOT contain CTA', 'score': 0.0061235735192894936}]]\n",
      "prediction Contains CTA 0.9690949816058799\n",
      "actual: call_to_action\n",
      "[[{'label': 'Contains CTA', 'score': 0.6612226963043213}, {'label': 'Does NOT contain CTA', 'score': 0.3387773334980011}], [{'label': 'Contains CTA', 'score': 0.9339070320129395}, {'label': 'Does NOT contain CTA', 'score': 0.06609293818473816}]]\n",
      "prediction Contains CTA 0.7589516687512696\n",
      "actual: call_to_action\n",
      "[[{'label': 'Does NOT contain CTA', 'score': 0.7366442680358887}, {'label': 'Contains CTA', 'score': 0.2633557617664337}], [{'label': 'Does NOT contain CTA', 'score': 0.8561773300170898}, {'label': 'Contains CTA', 'score': 0.14382264018058777}]]\n",
      "prediction Does NOT contain CTA 0.776384725409039\n",
      "actual: non_call_to_action\n",
      "[[{'label': 'Does NOT contain CTA', 'score': 0.7084237933158875}, {'label': 'Contains CTA', 'score': 0.29157620668411255}], [{'label': 'Does NOT contain CTA', 'score': 0.8819876909255981}, {'label': 'Contains CTA', 'score': 0.11801229417324066}]]\n",
      "prediction Does NOT contain CTA 0.7605878062586967\n",
      "actual: non_call_to_action\n"
     ]
    }
   ],
   "source": [
    "for example in call_to_action_examples:\n",
    "    prediction = FOLLOWUP_TOOLS['call_to_action']['method']({\"article_content\": example[0]})['results']\n",
    "    print(\"prediction\", prediction['label'], prediction['confidence'])\n",
    "    print(f\"actual: {example[1]}\")"
   ]
  },
  {
   "cell_type": "markdown",
   "id": "205a7639",
   "metadata": {},
   "source": [
    "## Emotional Valence"
   ]
  },
  {
   "cell_type": "code",
   "execution_count": 2,
   "id": "643efff9",
   "metadata": {},
   "outputs": [],
   "source": [
    "emotional_valence_examples = [\n",
    "    # Two Positive Examples\n",
    "    (\n",
    "        \"\"\"Over the past several months, I have experienced an overwhelming sense of joy and gratitude that has transformed my daily outlook on life. Every morning, as I step outside, the warm embrace of the sun and the gentle caress of the breeze immediately lift my spirits. It is as if nature itself is celebrating with me, and every bird’s song and rustle of leaves contributes to a symphony of positivity. I find that even the smallest moments—a smile from a stranger, a kind word from a colleague, or the simple beauty of a blooming flower—carry immense significance and elevate my mood to unimagined heights. My mind is continually filled with thoughts of thanks for these blessings, and I frequently pause during the day to reflect on just how fortunate I am to experience life so fully.\n",
    "\n",
    "In addition to these everyday moments, a number of major life events have significantly reinforced this positive energy. Recently, I received excellent news regarding my career aspirations; an opportunity that I had long pursued finally manifested, and it has opened a door to new possibilities that fill me with enthusiasm and a profound sense of achievement. The encouragement and support from friends, family, and mentors have been constant, providing me with the confidence to pursue my dreams without hesitation. This period of extraordinary personal growth has also inspired me to give back to my community. I have started volunteering at a local center, where I engage with individuals from diverse backgrounds, and every interaction reaffirms my belief in the intrinsic goodness of people and the beauty of compassion.\n",
    "\n",
    "I often capture these moments of joy through writing, photography, and even spontaneous conversations that reflect my newly discovered zest for life. The overwhelming positivity has not only enriched my inner world but has also spilled over into my interactions with others. Conversations that once felt mundane now sparkle with the excitement of shared gratitude and the collective hope for a better tomorrow. I believe that this period of life is an invitation to fully embrace the love and light that surrounds us every day, and I eagerly look forward to sharing this positivity with those I encounter.\"\"\",\n",
    "        \"positive\"\n",
    "    ),\n",
    "    (\n",
    "        \"\"\"I have recently embarked on an experience that filled me with unparalleled exuberance and optimism about the future. The sensation of pure, unadulterated happiness pervaded every moment, from the simple act of enjoying a perfectly brewed cup of coffee in the morning sun to an evening spent laughing with old friends. Each interaction, each glance, and each shared smile reminded me that life, with its myriad small pleasures, holds endless opportunities for joy. The vibrant tapestry of colors around me—the deep blue of the sky, the lush green of the trees, and the radiant hues of an urban sunrise—served as a constant visual reminder that life is a beautiful gift to be cherished and celebrated.\n",
    "\n",
    "This newfound appreciation for the simple wonders of the world has led me to make substantial changes in my daily routine. I have begun to incorporate mindfulness practices into my mornings, taking time to meditate, breathe deeply, and savour each moment with a heightened awareness of my surroundings. This intentional approach to life has allowed me to cultivate a genuine connection to both nature and humanity. Conversations with friends have grown richer, as we share not only our aspirations and dreams, but also our sincere gratitude for the present. In my professional life, I find that this state of positivity has opened doors to creative endeavors and innovative problem-solving, thus enhancing my ability to contribute meaningfully at work.\n",
    "\n",
    "The ripple effect of this positive outlook has extended to those around me as well; I have noticed that when I am genuinely happy and optimistic, the atmosphere in my home and office noticeably improves. This collective uplift in mood encourages others to explore their own sources of happiness and to embrace life with similar enthusiasm. It is my hope that through these shared experiences, we can all build a more supportive and invigorating community, where the light of positivity overcomes any lingering shadows of doubt or despair.\"\"\",\n",
    "        \"positive\"\n",
    "    ),\n",
    "    # Two Negative Examples\n",
    "    (\n",
    "        \"\"\"I have recently found myself overwhelmed by a deep and unrelenting sense of despair that colors every aspect of my daily existence. The once familiar brightness of the morning seems to wane into a dark, unyielding shadow, and even the smallest tasks feel insurmountable. Each day I wake with a heavy heart, burdened by a pervasive feeling of hopelessness that makes it nearly impossible to see any light at the end of the tunnel. The world, in my perception now, is marked by endless challenges and sorrows, and no matter how hard I try, I cannot shake the intense loneliness and sadness that pervade my thoughts.\n",
    "\n",
    "The relentless stream of negative news, personal setbacks, and unfulfilled expectations has only served to exacerbate these feelings. I recall moments where nothing in life seemed to offer solace—a cold, dreary day with a sky that reflected my own inner turmoil, interactions with indifferent faces that made me feel invisible, and failures that appeared to be the norm rather than an exception. When I attempt to explain how I feel to others, my words often fail, as if the depth of my despair defies comprehension. Even the simplest pleasures appear to have lost their meaning, leaving me to wander through a world that seems indifferent to my pain. My sleep is disturbed by waking thoughts and my days are measured in painful, slow hours that extend into the night.\n",
    "\n",
    "This overwhelming negativity has affected not only my mental state but also my physical well-being. I have lost interest in activities I once loved, and my interactions have become brief and perfunctory, devoid of the warmth that they once held. The pervasive sorrow feels like an inescapable prison with no key in sight. It is a state of relentless melancholy—a crushing reminder that even amidst the chaos of the external world, my internal landscape is a barren, desolate terrain where hope struggles to exist.\"\"\",\n",
    "        \"negative\"\n",
    "    ),\n",
    "    (\n",
    "        \"\"\"Lately, I have been enveloped by an almost tangible sense of anxiety and despair that casts a pall over everything I do. Each day seems to bring with it new challenges and disappointments, which, rather than being met with resilience, have left me feeling utterly defeated and demoralised. The vibrant colors of life have faded into muted grays, and every experience appears to be tinged with a deep-seated sorrow. There is an incessant inner dialogue that constantly reminds me of past failures and future uncertainties, making it impossible to see any prospect of improvement. Whenever I try to engage with the world—whether through work, relationships, or even leisure activities—the looming cloud of dread and hopelessness makes the experience overwhelmingly unpleasant.\n",
    "\n",
    "This state of mind is not momentary but has persisted, gradually eroding my ability to find joy in activities that once brought comfort. Even simple tasks have become burdensome as my thoughts drift to catastrophic outcomes and overwhelming fears. The fatigue is both mental and physical; my energy is sapped by an ever-present weariness that leaves little room for optimism. Social interactions now feel like an obligation rather than a source of support, as I am constantly reminded of my own inadequacy. No matter the situation, my outlook is marked by an almost paralyzing negativity that denies any possibility of relief.\n",
    "\n",
    "In professional environments, the impact is equally severe. Meetings and projects that once sparked creativity now seem to be veritable uphill battles, filled with an atmosphere of pessimism that stifles innovation. The relentless focus on potential pitfalls outweighs any glimpse of possibility, and even the smallest successes are overshadowed by the weight of inevitable shortcomings. It is as if every part of life is rigged against me, leaving little space for even a moment of reprieve or hope. This pervasive sense of negativity is distressing, as it not only disrupts daily activities but also erodes the foundational belief in a better future.\"\"\",\n",
    "        \"negative\"\n",
    "    ),\n",
    "    # Two Neutral Examples\n",
    "    (\n",
    "        \"\"\"A recent comprehensive study was conducted to evaluate the impact of various urban policies on local communities. The research involved collecting quantitative data from municipal records as well as qualitative feedback from residents over an extended period. The document systematically outlines the methods used, including surveys, interviews, and statistical analyses, to ensure that the findings are robust and replicable. The primary goal of the study was to assess whether recent policy changes had a measurable effect on key performance indicators such as employment rates, public satisfaction, and urban development metrics.\n",
    "\n",
    "The study is structured into several sections. The first section provides a detailed introduction and literature review, establishing the context for the research. This is followed by a methodology section that explains the sampling techniques, the survey instruments used, and the statistical tools employed for data analysis. In the subsequent sections, the report presents the data in a series of charts and graphs, which are accompanied by narrative explanations that highlight both significant trends and outliers. The authors discuss the findings with a careful balance, acknowledging both the positive impacts and areas where the policies did not produce the expected outcomes. The discussion section critically examines potential reasons for these results, including external factors such as economic fluctuations and demographic shifts.\n",
    "\n",
    "Moreover, the report includes a review of expert opinions, providing a multi-faceted perspective on the policies under study. Recommendations for future research and policy adjustments are clearly stated, emphasizing the need for ongoing monitoring and data collection. Throughout the document, the language remains formal and objective, ensuring that readers can trust the accuracy of the presented information without feeling swayed by emotive arguments. Overall, the study serves as an example of methodical and balanced reporting, offering valuable insights into the complexities of urban policy implementation.\"\"\",\n",
    "        \"neutral\"\n",
    "    ),\n",
    "    (\n",
    "        \"\"\"An analysis report was recently published which offers an objective assessment of the latest changes in public administration practices in several metropolitan areas. The report draws on a variety of data sources, including government documents, independent audits, and surveys conducted among citizens and industry experts. Structured into multiple sections, it begins with an overview of the policy changes implemented over the past two years, outlining the scope and expected outcomes of these reforms. Data is presented methodically, with clear tables, charts, and commentary that summarise key trends in areas such as budget allocation, service delivery efficiency, and public satisfaction levels.\n",
    "\n",
    "The methodology section describes the rigorous data collection and statistical techniques utilized to ensure that the analysis is both thorough and objective. For example, regression analysis and hypothesis testing were employed to draw correlations between policy variables and observed outcomes. The report consistently maintains a neutral tone, carefully avoiding subjective language. It presents both positive impacts and shortcomings of the recent reforms, supporting each claim with verifiable data and direct quotations from experts. Moreover, the discussion acknowledges areas where the data is inconclusive, suggesting that further study is needed to fully understand the long-term effects of these practices.\n",
    "\n",
    "In addition to quantitative findings, the report also incorporates qualitative insights from interviews with key stakeholders. These interviews are summarised objectively, with an emphasis on factual reporting rather than personal opinion. The conclusions drawn are cautiously optimistic, noting improvements in some areas while recommending further policy adjustments where needed. Overall, the report represents a detailed, balanced, and systematic approach to evaluating complex administrative changes, and it is intended to serve as a resource for policymakers and researchers alike.\"\"\",\n",
    "        \"neutral\"\n",
    "    ),\n",
    "]"
   ]
  },
  {
   "cell_type": "code",
   "execution_count": 3,
   "id": "f91176cd",
   "metadata": {},
   "outputs": [
    {
     "name": "stdout",
     "output_type": "stream",
     "text": [
      "[[{'label': 'joy', 'score': 0.9657753705978394}, {'label': 'neutral', 'score': 0.022186744958162308}, {'label': 'fear', 'score': 0.003605912672355771}, {'label': 'surprise', 'score': 0.0034385963808745146}, {'label': 'sadness', 'score': 0.0019166022539138794}, {'label': 'anger', 'score': 0.0016139724757522345}, {'label': 'disgust', 'score': 0.0014629079960286617}]]\n",
      "prediction joy 0.9657753705978394\n",
      "actual: positive\n",
      "[[{'label': 'joy', 'score': 0.9811479449272156}, {'label': 'neutral', 'score': 0.00869648065418005}, {'label': 'anger', 'score': 0.00299093103967607}, {'label': 'disgust', 'score': 0.0027252600993961096}, {'label': 'sadness', 'score': 0.002334821969270706}, {'label': 'surprise', 'score': 0.001669450313784182}, {'label': 'fear', 'score': 0.00043522127089090645}]]\n",
      "prediction joy 0.9811479449272156\n",
      "actual: positive\n",
      "[[{'label': 'sadness', 'score': 0.6843472719192505}, {'label': 'fear', 'score': 0.28920677304267883}, {'label': 'neutral', 'score': 0.010505354963243008}, {'label': 'surprise', 'score': 0.007538837380707264}, {'label': 'disgust', 'score': 0.0033899671398103237}, {'label': 'anger', 'score': 0.002588132629171014}, {'label': 'joy', 'score': 0.002423634985461831}]]\n",
      "prediction sadness 0.6843472719192505\n",
      "actual: negative\n",
      "[[{'label': 'sadness', 'score': 0.8402221202850342}, {'label': 'fear', 'score': 0.103001669049263}, {'label': 'neutral', 'score': 0.024272946640849113}, {'label': 'disgust', 'score': 0.023433415219187737}, {'label': 'anger', 'score': 0.004466651938855648}, {'label': 'surprise', 'score': 0.002783502684906125}, {'label': 'joy', 'score': 0.001819648197852075}]]\n",
      "prediction sadness 0.8402221202850342\n",
      "actual: negative\n",
      "[[{'label': 'neutral', 'score': 0.8822249174118042}, {'label': 'disgust', 'score': 0.03224675729870796}, {'label': 'fear', 'score': 0.025045273825526237}, {'label': 'joy', 'score': 0.02318011410534382}, {'label': 'anger', 'score': 0.018567103892564774}, {'label': 'surprise', 'score': 0.011064406484365463}, {'label': 'sadness', 'score': 0.007671366911381483}]]\n",
      "prediction neutral 0.8822249174118042\n",
      "actual: neutral\n",
      "[[{'label': 'neutral', 'score': 0.9001774787902832}, {'label': 'joy', 'score': 0.055143892765045166}, {'label': 'disgust', 'score': 0.020782604813575745}, {'label': 'anger', 'score': 0.008499417454004288}, {'label': 'surprise', 'score': 0.008464004844427109}, {'label': 'sadness', 'score': 0.004996452014893293}, {'label': 'fear', 'score': 0.0019361942540854216}]]\n",
      "prediction neutral 0.9001774787902832\n",
      "actual: neutral\n"
     ]
    }
   ],
   "source": [
    "for example in emotional_valence_examples:\n",
    "    prediction = FOLLOWUP_TOOLS['emotional_valence']['method']({\"article_content\": example[0]})['results']\n",
    "    print(\"prediction\", prediction['label'], prediction['confidence'])\n",
    "    print(f\"actual: {example[1]}\")"
   ]
  },
  {
   "cell_type": "markdown",
   "id": "79b16748",
   "metadata": {},
   "source": [
    "## Incivility"
   ]
  },
  {
   "cell_type": "code",
   "execution_count": 2,
   "id": "1483a73e",
   "metadata": {},
   "outputs": [],
   "source": [
    "incivility_examples = [(\"you suck\",\"incivil\"),(\"This is great, well done.\",\"civil\")]"
   ]
  },
  {
   "cell_type": "code",
   "execution_count": 3,
   "id": "2e73bede",
   "metadata": {},
   "outputs": [
    {
     "name": "stdout",
     "output_type": "stream",
     "text": [
      "[[{'label': 'toxic', 'score': 0.9587295055389404}, {'label': 'non-toxic', 'score': 0.041270479559898376}]]\n",
      "prediction toxic 0.9587295055389404\n",
      "actual: incivil\n",
      "[[{'label': 'non-toxic', 'score': 0.9986580610275269}, {'label': 'toxic', 'score': 0.0013419105671346188}]]\n",
      "prediction non-toxic 0.9986580610275269\n",
      "actual: civil\n"
     ]
    }
   ],
   "source": [
    "for example in incivility_examples:\n",
    "    prediction = FOLLOWUP_TOOLS['incivility']['method']({\"article_content\": example[0]})['results']\n",
    "    print(\"prediction\", prediction['label'], prediction['confidence'])\n",
    "    print(f\"actual: {example[1]}\")"
   ]
  },
  {
   "cell_type": "markdown",
   "id": "7b0c96ca",
   "metadata": {},
   "source": [
    "## Impoliteness"
   ]
  },
  {
   "cell_type": "code",
   "execution_count": 5,
   "id": "7c51bfbb",
   "metadata": {},
   "outputs": [],
   "source": [
    "impoliteness_examples = [('you are absolutely inept',\"impolite\"),('Take this away',\"impolite\"),('Apologies for the disturbance',\"polite\"), (\"After you please\",\"polite\")]"
   ]
  },
  {
   "cell_type": "code",
   "execution_count": 6,
   "id": "e931b93c",
   "metadata": {},
   "outputs": [
    {
     "name": "stdout",
     "output_type": "stream",
     "text": [
      "[[{'label': 'impolite', 'score': 0.9993249177932739}, {'label': 'polite', 'score': 0.000516260857693851}, {'label': 'neutral', 'score': 0.00011244457709835842}, {'label': 'somewhat polite', 'score': 4.644234650186263e-05}]]\n",
      "prediction impolite 0.9993249177932739\n",
      "actual: impolite\n",
      "[[{'label': 'impolite', 'score': 0.9993160963058472}, {'label': 'polite', 'score': 0.0003507179790176451}, {'label': 'neutral', 'score': 0.00024170939286705106}, {'label': 'somewhat polite', 'score': 9.153506107395515e-05}]]\n",
      "prediction impolite 0.9993160963058472\n",
      "actual: impolite\n",
      "[[{'label': 'polite', 'score': 0.850527286529541}, {'label': 'somewhat polite', 'score': 0.10078179091215134}, {'label': 'neutral', 'score': 0.028825100511312485}, {'label': 'impolite', 'score': 0.019865769892930984}]]\n",
      "prediction polite 0.850527286529541\n",
      "actual: polite\n",
      "[[{'label': 'polite', 'score': 0.7621241807937622}, {'label': 'neutral', 'score': 0.1961328238248825}, {'label': 'impolite', 'score': 0.022097941488027573}, {'label': 'somewhat polite', 'score': 0.01964506320655346}]]\n",
      "prediction polite 0.7621241807937622\n",
      "actual: polite\n"
     ]
    }
   ],
   "source": [
    "for example in impoliteness_examples:\n",
    "    prediction = FOLLOWUP_TOOLS['impoliteness']['method']({\"article_content\": example[0]})['results']\n",
    "    print(\"prediction\", prediction['label'], prediction['confidence'])\n",
    "    print(f\"actual: {example[1]}\")"
   ]
  },
  {
   "cell_type": "markdown",
   "id": "9ed2cee2",
   "metadata": {},
   "source": [
    "## Clickbait"
   ]
  },
  {
   "cell_type": "code",
   "execution_count": 6,
   "id": "0a6b5821",
   "metadata": {},
   "outputs": [],
   "source": [
    "clickbait_examples = [(\"You won't believe how much this cost!\",\"clickbait\"),(\"Doctor's hate this one simple trick\",\"clickbait\"),(\"Months leading up to December saw 9% inflation\",\"not clickbait\"), (\"Weather set to cool in coming weeks\",\"not clickbait\")]"
   ]
  },
  {
   "cell_type": "code",
   "execution_count": 7,
   "id": "37105ee2",
   "metadata": {},
   "outputs": [
    {
     "name": "stdout",
     "output_type": "stream",
     "text": [
      "[[{'label': 'CLICKBAIT', 'score': 0.9958535432815552}, {'label': 'NOT', 'score': 0.004146464169025421}]]\n",
      "prediction CLICKBAIT 0.9958535432815552\n",
      "actual: clickbait\n",
      "[[{'label': 'CLICKBAIT', 'score': 0.9937772750854492}, {'label': 'NOT', 'score': 0.006222719792276621}]]\n",
      "prediction CLICKBAIT 0.9937772750854492\n",
      "actual: clickbait\n",
      "[[{'label': 'NOT', 'score': 0.978770911693573}, {'label': 'CLICKBAIT', 'score': 0.02122904360294342}]]\n",
      "prediction NOT 0.978770911693573\n",
      "actual: not clickbait\n",
      "[[{'label': 'NOT', 'score': 0.9890226125717163}, {'label': 'CLICKBAIT', 'score': 0.010977360419929028}]]\n",
      "prediction NOT 0.9890226125717163\n",
      "actual: not clickbait\n"
     ]
    }
   ],
   "source": [
    "for example in clickbait_examples:\n",
    "    prediction = FOLLOWUP_TOOLS['clickbait']['method']({\"article_title\": example[0]})['results']\n",
    "    print(\"prediction\", prediction['label'], prediction['confidence'])\n",
    "    print(f\"actual: {example[1]}\")"
   ]
  },
  {
   "cell_type": "code",
   "execution_count": null,
   "id": "7e26f4f8",
   "metadata": {},
   "outputs": [],
   "source": []
  },
  {
   "cell_type": "markdown",
   "id": "223958ab",
   "metadata": {},
   "source": [
    "# Testing"
   ]
  },
  {
   "cell_type": "markdown",
   "id": "5057a0e6",
   "metadata": {},
   "source": [
    "## Incorrect Spelling"
   ]
  },
  {
   "cell_type": "code",
   "execution_count": 4,
   "id": "3de9d017",
   "metadata": {},
   "outputs": [],
   "source": [
    "incorrect_spelling_examples = [('thisd is ereally bads',\"bad\"),('This is correct.',\"good\"),('This is missing punctuation',\"ok\"), (\"this doesn't have capitalization\",\"ok\")]"
   ]
  },
  {
   "cell_type": "code",
   "execution_count": null,
   "id": "d63399a9",
   "metadata": {},
   "outputs": [
    {
     "ename": "NameError",
     "evalue": "name 'incorrect_spelling_examples' is not defined",
     "output_type": "error",
     "traceback": [
      "\u001b[0;31m---------------------------------------------------------------------------\u001b[0m",
      "\u001b[0;31mNameError\u001b[0m                                 Traceback (most recent call last)",
      "Cell \u001b[0;32mIn[4], line 1\u001b[0m\n\u001b[0;32m----> 1\u001b[0m \u001b[38;5;28;01mfor\u001b[39;00m example \u001b[38;5;129;01min\u001b[39;00m \u001b[43mincorrect_spelling_examples\u001b[49m:\n\u001b[1;32m      2\u001b[0m     prediction \u001b[38;5;241m=\u001b[39m FOLLOWUP_TOOLS[\u001b[38;5;124m'\u001b[39m\u001b[38;5;124mincorrect_spelling\u001b[39m\u001b[38;5;124m'\u001b[39m][\u001b[38;5;124m'\u001b[39m\u001b[38;5;124mmethod\u001b[39m\u001b[38;5;124m'\u001b[39m]({\u001b[38;5;124m\"\u001b[39m\u001b[38;5;124marticle_title\u001b[39m\u001b[38;5;124m\"\u001b[39m: example[\u001b[38;5;241m0\u001b[39m]})[\u001b[38;5;124m'\u001b[39m\u001b[38;5;124mresults\u001b[39m\u001b[38;5;124m'\u001b[39m]\n\u001b[1;32m      3\u001b[0m     \u001b[38;5;28mprint\u001b[39m(\u001b[38;5;124m\"\u001b[39m\u001b[38;5;124mprediction\u001b[39m\u001b[38;5;124m\"\u001b[39m, prediction[\u001b[38;5;124m'\u001b[39m\u001b[38;5;124mlabel\u001b[39m\u001b[38;5;124m'\u001b[39m], prediction[\u001b[38;5;124m'\u001b[39m\u001b[38;5;124mconfidence\u001b[39m\u001b[38;5;124m'\u001b[39m])\n",
      "\u001b[0;31mNameError\u001b[0m: name 'incorrect_spelling_examples' is not defined"
     ]
    }
   ],
   "source": [
    "for example in incorrect_spelling_examples:\n",
    "    prediction = FOLLOWUP_TOOLS['incorrect_spelling']['method']({\"article_content\": example[0]})['results']\n",
    "    print(\"prediction\", prediction['label'], prediction['confidence'])\n",
    "    print(f\"actual: {example[1]}\")"
   ]
  },
  {
   "cell_type": "markdown",
   "id": "72a5256f",
   "metadata": {},
   "source": [
    "## Sensationalism"
   ]
  },
  {
   "cell_type": "code",
   "execution_count": 2,
   "id": "872b104d",
   "metadata": {},
   "outputs": [],
   "source": [
    "sensationalism_examples = [('This is a great day',\"not_sensational\"),('This is the worst thing ever',\"sensational\"),('This is a normal day',\"not_sensational\"), (\"This is the best thing that has ever happened in the history of manking\",\"sensational\")]"
   ]
  },
  {
   "cell_type": "code",
   "execution_count": 3,
   "id": "7d892672",
   "metadata": {},
   "outputs": [
    {
     "ename": "TypeError",
     "evalue": "'str' object is not callable",
     "output_type": "error",
     "traceback": [
      "\u001b[0;31m---------------------------------------------------------------------------\u001b[0m",
      "\u001b[0;31mTypeError\u001b[0m                                 Traceback (most recent call last)",
      "Cell \u001b[0;32mIn[3], line 2\u001b[0m\n\u001b[1;32m      1\u001b[0m \u001b[38;5;28;01mfor\u001b[39;00m example \u001b[38;5;129;01min\u001b[39;00m sensationalism_examples:\n\u001b[0;32m----> 2\u001b[0m     prediction \u001b[38;5;241m=\u001b[39m \u001b[43mFOLLOWUP_TOOLS\u001b[49m\u001b[43m[\u001b[49m\u001b[38;5;124;43m'\u001b[39;49m\u001b[38;5;124;43msensationalism\u001b[39;49m\u001b[38;5;124;43m'\u001b[39;49m\u001b[43m]\u001b[49m\u001b[43m[\u001b[49m\u001b[38;5;124;43m'\u001b[39;49m\u001b[38;5;124;43mmethod\u001b[39;49m\u001b[38;5;124;43m'\u001b[39;49m\u001b[43m]\u001b[49m\u001b[43m(\u001b[49m\u001b[43m{\u001b[49m\u001b[38;5;124;43m\"\u001b[39;49m\u001b[38;5;124;43marticle_content\u001b[39;49m\u001b[38;5;124;43m\"\u001b[39;49m\u001b[43m:\u001b[49m\u001b[43m \u001b[49m\u001b[43mexample\u001b[49m\u001b[43m[\u001b[49m\u001b[38;5;241;43m0\u001b[39;49m\u001b[43m]\u001b[49m\u001b[43m}\u001b[49m\u001b[43m)\u001b[49m[\u001b[38;5;124m'\u001b[39m\u001b[38;5;124mresults\u001b[39m\u001b[38;5;124m'\u001b[39m]\n\u001b[1;32m      3\u001b[0m     \u001b[38;5;28mprint\u001b[39m(\u001b[38;5;124m\"\u001b[39m\u001b[38;5;124mprediction\u001b[39m\u001b[38;5;124m\"\u001b[39m, prediction[\u001b[38;5;124m'\u001b[39m\u001b[38;5;124mlabel\u001b[39m\u001b[38;5;124m'\u001b[39m], prediction[\u001b[38;5;124m'\u001b[39m\u001b[38;5;124mconfidence\u001b[39m\u001b[38;5;124m'\u001b[39m])\n\u001b[1;32m      4\u001b[0m     \u001b[38;5;28mprint\u001b[39m(\u001b[38;5;124mf\u001b[39m\u001b[38;5;124m\"\u001b[39m\u001b[38;5;124mactual: \u001b[39m\u001b[38;5;132;01m{\u001b[39;00mexample[\u001b[38;5;241m1\u001b[39m]\u001b[38;5;132;01m}\u001b[39;00m\u001b[38;5;124m\"\u001b[39m)\n",
      "\u001b[0;31mTypeError\u001b[0m: 'str' object is not callable"
     ]
    }
   ],
   "source": [
    "for example in sensationalism_examples:\n",
    "    prediction = FOLLOWUP_TOOLS['sensationalism']['method']({\"article_content\": example[0]})['results']\n",
    "    print(\"prediction\", prediction['label'], prediction['confidence'])\n",
    "    print(f\"actual: {example[1]}\")"
   ]
  },
  {
   "cell_type": "markdown",
   "id": "330669c9",
   "metadata": {},
   "source": [
    "## Topic Classifier"
   ]
  },
  {
   "cell_type": "code",
   "execution_count": 2,
   "id": "a8a68998",
   "metadata": {},
   "outputs": [],
   "source": [
    "example = [\"His chances of reelection are slim to none, the voters didn't like what he did last time.\",\"political\"]"
   ]
  },
  {
   "cell_type": "code",
   "execution_count": 3,
   "id": "409bd15e",
   "metadata": {},
   "outputs": [
    {
     "name": "stdout",
     "output_type": "stream",
     "text": [
      "prediction politics 0.9971171617507935\n",
      "actual: political\n"
     ]
    }
   ],
   "source": [
    "prediction = FOLLOWUP_TOOLS['topic']['method']({\"article_content\": example[0]})['results']\n",
    "print(\"prediction\", prediction['label'], prediction['confidence'])\n",
    "print(f\"actual: {example[1]}\")"
   ]
  },
  {
   "cell_type": "code",
   "execution_count": 5,
   "id": "4e275f9f",
   "metadata": {},
   "outputs": [],
   "source": [
    "from transformers import pipeline"
   ]
  },
  {
   "cell_type": "code",
   "execution_count": 6,
   "id": "3b5e686f",
   "metadata": {},
   "outputs": [
    {
     "name": "stderr",
     "output_type": "stream",
     "text": [
      "Could not set the permissions on the file '/Users/finlayduff/.cache/huggingface/hub/models--facebook--bart-large-cnn/blobs/40041830399afb5348525ef8354b007ecec4286fdf3524f7e6b54377e17096cb.incomplete'. Error: [Errno 2] No such file or directory: '/Users/finlayduff/.cache/huggingface/hub/models--facebook--bart-large-cnn/blobs/40041830399afb5348525ef8354b007ecec4286fdf3524f7e6b54377e17096cb.incomplete'.\n",
      "Continuing without setting permissions.\n",
      "WARNING:huggingface_hub.file_download:Could not set the permissions on the file '/Users/finlayduff/.cache/huggingface/hub/models--facebook--bart-large-cnn/blobs/40041830399afb5348525ef8354b007ecec4286fdf3524f7e6b54377e17096cb.incomplete'. Error: [Errno 2] No such file or directory: '/Users/finlayduff/.cache/huggingface/hub/models--facebook--bart-large-cnn/blobs/40041830399afb5348525ef8354b007ecec4286fdf3524f7e6b54377e17096cb.incomplete'.\n",
      "Continuing without setting permissions.\n",
      "Device set to use cpu\n"
     ]
    }
   ],
   "source": [
    "# —————————— Setup ——————————\n",
    "# Summariser\n",
    "summarizer = pipeline(\n",
    "    \"summarization\",\n",
    "    model=\"facebook/bart-large-cnn\",\n",
    "    device=-1  # CPU; change to 0 for GPU if available\n",
    ")"
   ]
  },
  {
   "cell_type": "code",
   "execution_count": null,
   "id": "4c747214",
   "metadata": {},
   "outputs": [],
   "source": []
  }
 ],
 "metadata": {
  "kernelspec": {
   "display_name": "fakenews_venv",
   "language": "python",
   "name": "python3"
  },
  "language_info": {
   "codemirror_mode": {
    "name": "ipython",
    "version": 3
   },
   "file_extension": ".py",
   "mimetype": "text/x-python",
   "name": "python",
   "nbconvert_exporter": "python",
   "pygments_lexer": "ipython3",
   "version": "3.10.4"
  }
 },
 "nbformat": 4,
 "nbformat_minor": 5
}
