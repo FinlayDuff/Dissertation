{
 "cells": [
  {
   "cell_type": "code",
   "execution_count": 3,
   "id": "79125919",
   "metadata": {},
   "outputs": [
    {
     "name": "stderr",
     "output_type": "stream",
     "text": [
      "/Users/finlayduff/.pyenv/versions/3.10.4/envs/fakenews_venv/lib/python3.10/site-packages/tqdm/auto.py:21: TqdmWarning: IProgress not found. Please update jupyter and ipywidgets. See https://ipywidgets.readthedocs.io/en/stable/user_install.html\n",
      "  from .autonotebook import tqdm as notebook_tqdm\n"
     ]
    },
    {
     "name": "stdout",
     "output_type": "stream",
     "text": [
      "/Users/finlayduff/.pyenv/versions/3.10.4/envs/fakenews_venv/lib/python3.10/site-packages\n"
     ]
    }
   ],
   "source": [
    "import os\n",
    "os.chdir(\"/Users/finlayduff/Documents/BATH MSc/Dissertation\")\n",
    "from core.rag import annotate_article, retrieve_similar\n",
    "import pandas as pd\n",
    "from utils.utils import to_ascii"
   ]
  },
  {
   "cell_type": "code",
   "execution_count": 4,
   "id": "32ebd527",
   "metadata": {},
   "outputs": [],
   "source": [
    "examples = pd.read_csv('data/transformed/recovery-news-data_100.csv')"
   ]
  },
  {
   "cell_type": "code",
   "execution_count": 5,
   "id": "b6d4ff5f",
   "metadata": {},
   "outputs": [],
   "source": [
    "example = examples.iloc[1]"
   ]
  },
  {
   "cell_type": "code",
   "execution_count": 6,
   "id": "2dbf5d51",
   "metadata": {},
   "outputs": [],
   "source": [
    "output = annotate_article(to_ascii(example['article_content']))"
   ]
  },
  {
   "cell_type": "code",
   "execution_count": 7,
   "id": "785f3065",
   "metadata": {},
   "outputs": [
    {
     "name": "stdout",
     "output_type": "stream",
     "text": [
      "A break from COVID-19, coming soon to a drive-in theater near you 1\n"
     ]
    }
   ],
   "source": [
    "print(example['article_title'], example['label'])"
   ]
  },
  {
   "cell_type": "code",
   "execution_count": 8,
   "id": "fe4a878c",
   "metadata": {},
   "outputs": [
    {
     "data": {
      "text/plain": [
       "'Drive-in theaters are making a comeback, with the hundreds of 20th century relics still in operation across the U.S. proving a natural fit for those looking for a safe outing during the coronavirus pandemic. In hard-hit New York, for example, outdoor movie venues can show films starting on Friday, according to Governor Andrew Cuomo.  The loosened restrictions involve reopening \"certain businesses statewide which are low risk ‚Äî landscaping, gardening, low-risk recreational activities like tennis, drive-in movie theaters,\" Cuomo said in briefing on Monday. \"Talk about going back to the future. Back to drive-in movie theaters ‚Äî I\\'m OK with that, by the way.\"  New York will reopen statewide certain low-risk businesses and recreational activities as of May 15. These include: -Landscaping and gardening  -Outdoor, low-risk recreational activities like tennis  -Drive-in movie theaters ‚Äî Andrew Cuomo (@NYGovCuomo) May 11, 2020  The movie \"Trolls\" will be playing this weekend at the Fingerlakes Drive-In in Auburn, New York, roughly 30 miles from Syracuse, according to its owner, Paul Meyer, a commercial real estate developer who bought the business eight years ago and who estimates there are about 30 drive-ins across the state.  \"Drive-ins by design are excellent places to go for social distancing,\" Meyer told CBS MoneyWatch. \"I expect we\\'ll have a good season this year.\"  In operation since 1947, the business is the oldest continuously operated drive-in theater in the state, said Meyer, who is still thinking through all the logistics of keeping patrons six feet apart at the concession stand and in lines for the bathroom. His three employees and customers will be required to wear masks, he said.  For now, the pandemic has had little impact on Meyer\\'s drive-in, a seasonal business that would have been closed anyway when the shutdown order came into play in March. \"When COVID hit we were already closed as it was in the middle of winter time,\" he said.  Paul Meyer, owner of the Fingerlakes Drive-In in Auburn, New York, said that \"Drive-ins by design are excellent places to go for social distancing.\" Courtesy of Paul Meyer  There are 305 drive-in theaters around the U.S., with at least one in every state except for Alaska, Delaware, Hawaii, Louisiana and North Dakota, according to the United Drive-In Theatre Owners Association.  It\\'s not the first time that drive-ins, which first appeared in the U.S. in the years following the Great Depression, have been touted as a refuge from disease. In the early 1950s, when the U.S. faced a major polio epidemic, the theaters sometimes pitched themselves as \"flu and polio protected,\" according to an account by Food and Wine.  \"It\\'s a responsibility on our side to be as safe as possible,\" Stephen Sauerbeck, owner of Sauerbeck Family Drive-In Theater in La Grange, Kentucky, told The New York Times. \"I don\\'t want this to be, \\'We found a loophole in the situation, and we are going to operate an underground business the government is trying to shut down.\\'\"'"
      ]
     },
     "execution_count": 8,
     "metadata": {},
     "output_type": "execute_result"
    }
   ],
   "source": [
    "example['article_content']"
   ]
  },
  {
   "cell_type": "code",
   "execution_count": 9,
   "id": "83a5a100",
   "metadata": {},
   "outputs": [
    {
     "data": {
      "text/plain": [
       "['low risk   landscaping , gardening , low - risk recreational activity',\n",
       " 'new york',\n",
       " 'paul meyer',\n",
       " 'excellent place',\n",
       " 'social distancing']"
      ]
     },
     "execution_count": 9,
     "metadata": {},
     "output_type": "execute_result"
    }
   ],
   "source": [
    "output['keywords']"
   ]
  },
  {
   "cell_type": "code",
   "execution_count": 10,
   "id": "68152667",
   "metadata": {},
   "outputs": [
    {
     "name": "stdout",
     "output_type": "stream",
     "text": [
      "exactly matching title; skipping\n",
      "exactly matching title; skipping\n",
      "▶ Ran 4 queries, got 28 raw hits → 25 unique URLs\n",
      "✔️  18 candidates pass the 0.1 embedding cutoff\n"
     ]
    }
   ],
   "source": [
    "similar = retrieve_similar(article=to_ascii(example['article_content']), title= to_ascii(example['article_title']),keywords=output['keywords'])"
   ]
  }
 ],
 "metadata": {
  "kernelspec": {
   "display_name": "fakenews_venv",
   "language": "python",
   "name": "python3"
  },
  "language_info": {
   "codemirror_mode": {
    "name": "ipython",
    "version": 3
   },
   "file_extension": ".py",
   "mimetype": "text/x-python",
   "name": "python",
   "nbconvert_exporter": "python",
   "pygments_lexer": "ipython3",
   "version": "3.10.4"
  }
 },
 "nbformat": 4,
 "nbformat_minor": 5
}
