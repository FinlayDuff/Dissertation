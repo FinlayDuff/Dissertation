{
 "cells": [
  {
   "cell_type": "markdown",
   "metadata": {},
   "source": [
    "# Setup\n",
    "## Import libraries"
   ]
  },
  {
   "cell_type": "code",
   "execution_count": 4,
   "metadata": {},
   "outputs": [],
   "source": [
    "# Import the libraries and set the paths\n",
    "import sys\n",
    "import os\n",
    "notebook_dir = os.getcwd()\n",
    "root = os.path.abspath(os.path.join(notebook_dir, '../'))\n",
    "sys.path.append(root)\n",
    "\n",
    "from utils.data.csv_parsing import load_csv_as_dicts, load_csv_as_dataframe\n",
    "\n",
    "import getpass\n",
    "\n"
   ]
  },
  {
   "cell_type": "markdown",
   "metadata": {},
   "source": [
    "## Load Data"
   ]
  },
  {
   "cell_type": "code",
   "execution_count": 5,
   "metadata": {},
   "outputs": [],
   "source": [
    "# article_path = '/data/transformed/FA-KES.csv'\n",
    "\n",
    "# articles = load_csv_as_dicts(root+article_path)\n",
    "# articles_df = load_csv_as_dataframe(root+article_path)"
   ]
  },
  {
   "cell_type": "markdown",
   "metadata": {},
   "source": [
    "## Load API Keys"
   ]
  },
  {
   "cell_type": "code",
   "execution_count": 6,
   "metadata": {},
   "outputs": [],
   "source": [
    "def _set_env(var: str):\n",
    "    if not os.environ.get(var):\n",
    "        os.environ[var] = getpass.getpass(f\"{var}: \")\n",
    "\n",
    "\n",
    "_set_env(\"ANTHROPIC_API_KEY\")\n",
    "_set_env(\"LANGSMITH_API_KEY\")\n",
    "_set_env(\"OPENAI_API_KEY\")\n",
    "_set_env(\"HUGGINGFACEHUB_API_TOKEN\")\n",
    "os.environ[\"LANGCHAIN_TRACING_V2\"] = \"true\"\n",
    "os.environ[\"LANGCHAIN_PROJECT\"] = \"FakeNews Detection\""
   ]
  },
  {
   "cell_type": "code",
   "execution_count": 7,
   "metadata": {},
   "outputs": [
    {
     "name": "stderr",
     "output_type": "stream",
     "text": [
      "/Users/finlayduff/.pyenv/versions/3.10.4/envs/fakenews_venv/lib/python3.10/site-packages/tqdm/auto.py:21: TqdmWarning: IProgress not found. Please update jupyter and ipywidgets. See https://ipywidgets.readthedocs.io/en/stable/user_install.html\n",
      "  from .autonotebook import tqdm as notebook_tqdm\n"
     ]
    }
   ],
   "source": [
    "from core.experiment import Experiment\n",
    "\n",
    "\n",
    "def gen_experiment(\n",
    "    experiment_name: str = \"baseline_gpt4\",\n",
    "    verbose: bool = True,\n",
    "):\n",
    "    \"\"\"\n",
    "    Run a misinformation detection experiment.\n",
    "\n",
    "    Args:\n",
    "        experiment_name: Name of experiment config to use\n",
    "        dataset_name: Name of dataset to evaluate\n",
    "        verbose: Whether to print debug information\n",
    "    \"\"\"\n",
    "    # Initialize and run experiment\n",
    "    experiment = Experiment(\n",
    "        experiment_name=experiment_name,\n",
    "        description=\"Evaluating graph-based misinformation detection system.\",\n",
    "        verbose=verbose,\n",
    "    )\n",
    "    return experiment    "
   ]
  },
  {
   "cell_type": "code",
   "execution_count": 8,
   "metadata": {},
   "outputs": [],
   "source": [
    "exp = gen_experiment()"
   ]
  },
  {
   "cell_type": "code",
   "execution_count": 9,
   "metadata": {},
   "outputs": [
    {
     "data": {
      "image/png": "[encoded data removed]",
      "text/plain": [
       "<IPython.core.display.Image object>"
      ]
     },
     "metadata": {},
     "output_type": "display_data"
    }
   ],
   "source": [
    "exp.graph_manager.visualize_graph()"
   ]
  },
  {
   "cell_type": "markdown",
   "metadata": {},
   "source": [
    "# Graph Definition"
   ]
  },
  {
   "cell_type": "code",
   "execution_count": 7,
   "metadata": {},
   "outputs": [],
   "source": [
    "open_ai_model_name = 'gpt-4o-mini-2024-07-18'\n",
    "# anthropic_model_name = 'claude-3-haiku-20240307'\n",
    "anthropic_model_name = 'claude-3-5-haiku-20241022'\n",
    "meta_llama_model_name = \"meta-llama/Llama-2-7b-chat-hf\""
   ]
  },
  {
   "cell_type": "code",
   "execution_count": 8,
   "metadata": {},
   "outputs": [
    {
     "ename": "TypeError",
     "evalue": "Experiment.__init__() got an unexpected keyword argument 'article_classification_prompt_name'",
     "output_type": "error",
     "traceback": [
      "\u001b[0;31m---------------------------------------------------------------------------\u001b[0m",
      "\u001b[0;31mTypeError\u001b[0m                                 Traceback (most recent call last)",
      "Cell \u001b[0;32mIn[8], line 12\u001b[0m\n\u001b[1;32m      6\u001b[0m prompt_name \u001b[38;5;241m=\u001b[39m \u001b[38;5;124m\"\u001b[39m\u001b[38;5;124mdirect_naive_zero_shot_classification\u001b[39m\u001b[38;5;124m\"\u001b[39m\n\u001b[1;32m      7\u001b[0m \u001b[38;5;66;03m# # prompt_name = \"direct_robust_zero_shot_classification\"\u001b[39;00m\n\u001b[1;32m      8\u001b[0m \u001b[38;5;66;03m# # prompt_name = \"direct_few_shot_classification\"\u001b[39;00m\n\u001b[1;32m      9\u001b[0m \n\u001b[1;32m     10\u001b[0m \n\u001b[1;32m     11\u001b[0m \u001b[38;5;66;03m# # Instantiate the experiment\u001b[39;00m\n\u001b[0;32m---> 12\u001b[0m experiment \u001b[38;5;241m=\u001b[39m \u001b[43mExperiment\u001b[49m\u001b[43m(\u001b[49m\n\u001b[1;32m     13\u001b[0m \u001b[43m    \u001b[49m\u001b[43marticle_classification_prompt_name\u001b[49m\u001b[38;5;241;43m=\u001b[39;49m\u001b[43mprompt_name\u001b[49m\u001b[43m,\u001b[49m\n\u001b[1;32m     14\u001b[0m \u001b[43m    \u001b[49m\u001b[43mllm_model_name\u001b[49m\u001b[38;5;241;43m=\u001b[39;49m\u001b[43mopen_ai_model_name\u001b[49m\u001b[43m,\u001b[49m\n\u001b[1;32m     15\u001b[0m \u001b[43m    \u001b[49m\u001b[43mdataset_name\u001b[49m\u001b[38;5;241;43m=\u001b[39;49m\u001b[38;5;124;43m\"\u001b[39;49m\u001b[38;5;124;43mFA-KES debug\u001b[39;49m\u001b[38;5;124;43m\"\u001b[39;49m\u001b[43m,\u001b[49m\n\u001b[1;32m     16\u001b[0m \u001b[43m    \u001b[49m\u001b[43mdescription\u001b[49m\u001b[38;5;241;43m=\u001b[39;49m\u001b[38;5;124;43m\"\u001b[39;49m\u001b[38;5;124;43mEvaluating graph-based misinformation detection system.\u001b[39;49m\u001b[38;5;124;43m\"\u001b[39;49m\u001b[43m,\u001b[49m\n\u001b[1;32m     17\u001b[0m \u001b[43m    \u001b[49m\u001b[43mexperiment_type\u001b[49m\u001b[38;5;241;43m=\u001b[39;49m\u001b[38;5;124;43m\"\u001b[39;49m\u001b[38;5;124;43mstaged_classification\u001b[39;49m\u001b[38;5;124;43m\"\u001b[39;49m\u001b[43m,\u001b[49m\n\u001b[1;32m     18\u001b[0m \u001b[43m    \u001b[49m\u001b[43mverbose\u001b[49m\u001b[38;5;241;43m=\u001b[39;49m\u001b[38;5;28;43;01mTrue\u001b[39;49;00m\u001b[43m,\u001b[49m\n\u001b[1;32m     19\u001b[0m \u001b[43m    \u001b[49m\u001b[43muse_bulk_signals\u001b[49m\u001b[38;5;241;43m=\u001b[39;49m\u001b[38;5;28;43;01mFalse\u001b[39;49;00m\u001b[43m,\u001b[49m\n\u001b[1;32m     20\u001b[0m \u001b[43m    \u001b[49m\u001b[43mlocal_llm\u001b[49m\u001b[38;5;241;43m=\u001b[39;49m\u001b[38;5;28;43;01mTrue\u001b[39;49;00m\u001b[43m,\u001b[49m\n\u001b[1;32m     21\u001b[0m \u001b[43m)\u001b[49m\n\u001b[1;32m     23\u001b[0m \u001b[38;5;66;03m# # Run the evaluation\u001b[39;00m\n\u001b[1;32m     24\u001b[0m results \u001b[38;5;241m=\u001b[39m experiment\u001b[38;5;241m.\u001b[39mrun_evaluation()\n",
      "\u001b[0;31mTypeError\u001b[0m: Experiment.__init__() got an unexpected keyword argument 'article_classification_prompt_name'"
     ]
    }
   ],
   "source": [
    "# # main.py\n",
    "# \n",
    "from core.experiment import Experiment\n",
    "\n",
    "# # Define the prompt name\n",
    "prompt_name = \"direct_naive_zero_shot_classification\"\n",
    "# # prompt_name = \"direct_robust_zero_shot_classification\"\n",
    "# # prompt_name = \"direct_few_shot_classification\"\n",
    "\n",
    "\n",
    "# # Instantiate the experiment\n",
    "experiment = Experiment(\n",
    "    article_classification_prompt_name=prompt_name,\n",
    "    llm_model_name=open_ai_model_name,\n",
    "    dataset_name=\"FA-KES debug\",\n",
    "    description=\"Evaluating graph-based misinformation detection system.\",\n",
    "    experiment_type=\"staged_classification\",\n",
    "    verbose=True,\n",
    "    use_bulk_signals=False,\n",
    "    local_llm=True,\n",
    ")\n",
    "\n",
    "# # Run the evaluation\n",
    "results = experiment.run_evaluation()"
   ]
  },
  {
   "cell_type": "code",
   "execution_count": 16,
   "metadata": {},
   "outputs": [],
   "source": [
    "import json\n",
    "\n",
    "# run_name = 'results/2024-12-29T17:43:02.244981_experiment_f81eac67-a503-4230-9e5d-9cded133ab8e.json'\n",
    "run_name = \"results/2025-01-04T12:09:48.297232_experiment_10b240cf-ea13-4c6b-a80d-8e59a4d9f540.json\"\n",
    "# Reading a JSON file\n",
    "with open(run_name, 'r') as file:\n",
    "    data = json.load(file)\n",
    "\n"
   ]
  },
  {
   "cell_type": "code",
   "execution_count": null,
   "metadata": {},
   "outputs": [],
   "source": [
    "import pandas as pd\n",
    "from transformers import pipeline, AutoTokenizer\n",
    "\n",
    "# Initialize the pipeline and tokenizer\n",
    "pipe = pipeline(\"text-classification\", model=\"valurank/distilroberta-bias\")\n",
    "tokenizer = AutoTokenizer.from_pretrained(\"valurank/distilroberta-bias\")\n",
    "\n",
    "# Get the maximum sequence length\n",
    "max_length = tokenizer.model_max_length\n",
    "\n",
    "# Function to split text into chunks\n",
    "def split_into_chunks(text, max_length):\n",
    "    tokens = tokenizer(text, truncation=False, return_tensors=\"pt\")[\"input_ids\"][0]\n",
    "    chunks = [tokens[i:i + max_length] for i in range(0, len(tokens), max_length)]\n",
    "    return [tokenizer.decode(chunk, skip_special_tokens=True) for chunk in chunks]\n",
    "\n",
    "results = []\n",
    "\n",
    "for example in range(len(data['results']['examples'])):\n",
    "    article_content = data['results']['examples'][example]['inputs']['article_content']\n",
    "    \n",
    "    # Split the article content into chunks\n",
    "    chunks = split_into_chunks(article_content, max_length)\n",
    "    \n",
    "    # Process each chunk separately and aggregate the results\n",
    "    bert_predictions = [pipe(chunk)[0] for chunk in chunks]\n",
    "    \n",
    "    # Aggregate the BERT predictions (e.g., by taking the majority vote or averaging the scores)\n",
    "    bert_prediction = max(bert_predictions, key=lambda x: x['score'])\n",
    "    \n",
    "    llm_prediction = data['credibility_signals'][example]['bias']\n",
    "    llm_article_classification = data['results']['runs'][example]['outputs']['label']\n",
    "    actual_article_classification = data['results']['examples'][example]['outputs']['label']\n",
    "    \n",
    "    results.append({\n",
    "        \"article_content\": article_content,\n",
    "        \"llm_prediction\": llm_prediction['label'],\n",
    "        \"llm_confidence\": llm_prediction['confidence'],\n",
    "        \"bert_prediction\": bert_prediction['label'],\n",
    "        \"bert_confidence\": bert_prediction['score'],\n",
    "        \"llm_article_classification\": llm_article_classification,\n",
    "        \"actual_article_classification\": actual_article_classification\n",
    "    })\n",
    "\n",
    "df = pd.DataFrame(results)\n",
    "print(df)"
   ]
  },
  {
   "cell_type": "code",
   "execution_count": 23,
   "metadata": {},
   "outputs": [],
   "source": [
    "df['bert_prediction'] = df['bert_prediction'].map({'BIASED': 0.0, 'NEUTRAL': 1.0})"
   ]
  },
  {
   "cell_type": "code",
   "execution_count": null,
   "metadata": {},
   "outputs": [],
   "source": [
    "# Calculate the average LLM confidence when it agrees with BERT\n",
    "llm_confidence_agreement = df[df['llm_prediction'] == df['bert_prediction']]['llm_confidence'].mean()\n",
    "\n",
    "# Calculate the average LLM confidence when it disagrees with BERT\n",
    "llm_confidence_disagreement = df[df['llm_prediction'] != df['bert_prediction']]['llm_confidence'].mean()\n",
    "\n",
    "print(f\"LLM Confidence when it agrees with BERT: {llm_confidence_agreement}\")\n",
    "print(f\"LLM Confidence when it disagrees with BERT: {llm_confidence_disagreement}\")\n",
    "# Calculate the average BERT confidence when it agrees with LLM\n",
    "bert_confidence_agreement = df[df['llm_prediction'] == df['bert_prediction']]['bert_confidence'].mean()\n",
    "\n",
    "# Calculate the average BERT confidence when it disagrees with LLM\n",
    "bert_confidence_disagreement = df[df['llm_prediction'] != df['bert_prediction']]['bert_confidence'].mean()\n",
    "\n",
    "print(f\"BERT Confidence when it agrees with LLM: {bert_confidence_agreement}\")\n",
    "print(f\"BERT Confidence when it disagrees with LLM: {bert_confidence_disagreement}\")\n",
    "import matplotlib.pyplot as plt\n",
    "\n",
    "# Plot the average confidence when LLM agrees vs disagrees with BERT\n",
    "labels = ['LLM agrees with BERT', 'LLM disagrees with BERT']\n",
    "llm_confidences = [llm_confidence_agreement, llm_confidence_disagreement]\n",
    "bert_confidences = [bert_confidence_agreement, bert_confidence_disagreement]\n",
    "\n",
    "x = range(len(labels))\n",
    "\n",
    "fig, ax = plt.subplots()\n",
    "ax.bar(x, llm_confidences, width=0.4, label='LLM Confidence', align='center')\n",
    "ax.bar(x, bert_confidences, width=0.4, label='BERT Confidence', align='edge')\n",
    "\n",
    "ax.set_xlabel('Agreement')\n",
    "ax.set_ylabel('Average Confidence')\n",
    "ax.set_title('Average Confidence of LLM and BERT')\n",
    "ax.set_xticks(x)\n",
    "ax.set_xticklabels(labels)\n",
    "ax.legend()\n",
    "\n",
    "plt.show()"
   ]
  },
  {
   "cell_type": "code",
   "execution_count": null,
   "metadata": {},
   "outputs": [],
   "source": [
    "\n",
    "# Rename the columns for better readability\n",
    "grouped_counts.columns = ['llm_counts', 'bert_counts']\n",
    "grouped_counts.index.name = 'llm_prediction'\n",
    "grouped_counts.reset_index(inplace=True)\n",
    "\n",
    "print(\"\\nGrouped Counts:\")\n",
    "print(grouped_counts)\n"
   ]
  },
  {
   "cell_type": "code",
   "execution_count": null,
   "metadata": {},
   "outputs": [],
   "source": [
    "article_content = articles_df.loc[articles_df.article_title == 'Al-Nusra Spokesman Son 20 Terrorists Killed in Idleb Strikes']['article_content'].iloc[0]\n",
    "pipe(article_content)"
   ]
  }
 ],
 "metadata": {
  "kernelspec": {
   "display_name": "fakenews_venv",
   "language": "python",
   "name": "python3"
  },
  "language_info": {
   "codemirror_mode": {
    "name": "ipython",
    "version": 3
   },
   "file_extension": ".py",
   "mimetype": "text/x-python",
   "name": "python",
   "nbconvert_exporter": "python",
   "pygments_lexer": "ipython3",
   "version": "3.10.4"
  }
 },
 "nbformat": 4,
 "nbformat_minor": 2
}
