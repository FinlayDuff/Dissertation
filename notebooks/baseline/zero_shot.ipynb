{
 "cells": [
  {
   "cell_type": "markdown",
   "metadata": {},
   "source": [
    "# Setup\n",
    "## Import libraries"
   ]
  },
  {
   "cell_type": "code",
   "execution_count": 3,
   "metadata": {},
   "outputs": [],
   "source": [
    "import sys\n",
    "import os\n",
    "notebook_dir = os.getcwd()\n",
    "root = os.path.abspath(os.path.join(notebook_dir, '../../'))\n",
    "sys.path.append(root)\n",
    "from utils.data.csv_parsing import load_csv_as_dicts, load_csv_as_dataframe\n",
    "import getpass\n",
    "from typing import Annotated\n",
    "from typing_extensions import TypedDict\n",
    "from langgraph.graph import StateGraph, START, END\n",
    "from langgraph.graph.message import add_messages\n",
    "from IPython.display import Image, display\n",
    "from langchain_anthropic import ChatAnthropic\n",
    "from langsmith import Client\n",
    "from langsmith.run_trees import RunTree\n",
    "import pandas as pd\n"
   ]
  },
  {
   "cell_type": "markdown",
   "metadata": {},
   "source": [
    "## Load Data"
   ]
  },
  {
   "cell_type": "code",
   "execution_count": 17,
   "metadata": {},
   "outputs": [],
   "source": [
    "article_path = '/data/transformed/FA-KES.csv'\n",
    "\n",
    "articles = load_csv_as_dicts(root+article_path)\n",
    "articles_df = load_csv_as_dataframe(root+article_path)"
   ]
  },
  {
   "cell_type": "code",
   "execution_count": 18,
   "metadata": {},
   "outputs": [
    {
     "data": {
      "text/html": [
       "<div>\n",
       "<style scoped>\n",
       "    .dataframe tbody tr th:only-of-type {\n",
       "        vertical-align: middle;\n",
       "    }\n",
       "\n",
       "    .dataframe tbody tr th {\n",
       "        vertical-align: top;\n",
       "    }\n",
       "\n",
       "    .dataframe thead th {\n",
       "        text-align: right;\n",
       "    }\n",
       "</style>\n",
       "<table border=\"1\" class=\"dataframe\">\n",
       "  <thead>\n",
       "    <tr style=\"text-align: right;\">\n",
       "      <th></th>\n",
       "      <th>labels</th>\n",
       "      <th>label</th>\n",
       "    </tr>\n",
       "  </thead>\n",
       "  <tbody>\n",
       "    <tr>\n",
       "      <th>0</th>\n",
       "      <td>0</td>\n",
       "      <td>Fake</td>\n",
       "    </tr>\n",
       "    <tr>\n",
       "      <th>1</th>\n",
       "      <td>0</td>\n",
       "      <td>Fake</td>\n",
       "    </tr>\n",
       "    <tr>\n",
       "      <th>2</th>\n",
       "      <td>0</td>\n",
       "      <td>Fake</td>\n",
       "    </tr>\n",
       "    <tr>\n",
       "      <th>3</th>\n",
       "      <td>0</td>\n",
       "      <td>Fake</td>\n",
       "    </tr>\n",
       "    <tr>\n",
       "      <th>4</th>\n",
       "      <td>0</td>\n",
       "      <td>Fake</td>\n",
       "    </tr>\n",
       "    <tr>\n",
       "      <th>...</th>\n",
       "      <td>...</td>\n",
       "      <td>...</td>\n",
       "    </tr>\n",
       "    <tr>\n",
       "      <th>799</th>\n",
       "      <td>1</td>\n",
       "      <td>Credible</td>\n",
       "    </tr>\n",
       "    <tr>\n",
       "      <th>800</th>\n",
       "      <td>1</td>\n",
       "      <td>Credible</td>\n",
       "    </tr>\n",
       "    <tr>\n",
       "      <th>801</th>\n",
       "      <td>0</td>\n",
       "      <td>Fake</td>\n",
       "    </tr>\n",
       "    <tr>\n",
       "      <th>802</th>\n",
       "      <td>1</td>\n",
       "      <td>Credible</td>\n",
       "    </tr>\n",
       "    <tr>\n",
       "      <th>803</th>\n",
       "      <td>1</td>\n",
       "      <td>Credible</td>\n",
       "    </tr>\n",
       "  </tbody>\n",
       "</table>\n",
       "<p>804 rows × 2 columns</p>\n",
       "</div>"
      ],
      "text/plain": [
       "     labels     label\n",
       "0         0      Fake\n",
       "1         0      Fake\n",
       "2         0      Fake\n",
       "3         0      Fake\n",
       "4         0      Fake\n",
       "..      ...       ...\n",
       "799       1  Credible\n",
       "800       1  Credible\n",
       "801       0      Fake\n",
       "802       1  Credible\n",
       "803       1  Credible\n",
       "\n",
       "[804 rows x 2 columns]"
      ]
     },
     "execution_count": 18,
     "metadata": {},
     "output_type": "execute_result"
    }
   ],
   "source": [
    "articles_df[['labels','label']]"
   ]
  },
  {
   "cell_type": "markdown",
   "metadata": {},
   "source": [
    "## Load API Keys"
   ]
  },
  {
   "cell_type": "code",
   "execution_count": 5,
   "metadata": {},
   "outputs": [],
   "source": [
    "def _set_env(var: str):\n",
    "    if not os.environ.get(var):\n",
    "        os.environ[var] = getpass.getpass(f\"{var}: \")\n",
    "\n",
    "\n",
    "_set_env(\"ANTHROPIC_API_KEY\")\n",
    "_set_env(\"LANGSMITH_API_KEY\")\n",
    "os.environ[\"LANGCHAIN_TRACING_V2\"] = \"TRUE\"\n",
    "os.environ[\"LANGCHAIN_PROJECT\"] = \"FakeNews Detection - Zero Shot\""
   ]
  },
  {
   "cell_type": "markdown",
   "metadata": {},
   "source": [
    "# Client"
   ]
  },
  {
   "cell_type": "code",
   "execution_count": 12,
   "metadata": {},
   "outputs": [
    {
     "data": {
      "image/jpeg": "[encoded data removed]",
      "text/plain": [
       "<IPython.core.display.Image object>"
      ]
     },
     "metadata": {},
     "output_type": "display_data"
    }
   ],
   "source": [
    "class State(TypedDict):\n",
    "    # Messages have the type \"list\". The `add_messages` function\n",
    "    # in the annotation defines how this state key should be updated\n",
    "    # (in this case, it appends messages to the list, rather than overwriting them)\n",
    "    messages: Annotated[list, add_messages]\n",
    "graph_builder = StateGraph(State)\n",
    "\n",
    "class MisinformationOutputParser:\n",
    "    def parse(self, response_content: str) -> dict:\n",
    "        # Example of expected response format:\n",
    "        # True or False followed by explanation:\n",
    "        # \"True: The article appears factual.\"\n",
    "        # \"False: The article contains misleading information because...\"\n",
    "        \n",
    "        if \"True\" in response_content:\n",
    "            label = False\n",
    "        elif \"False\" in response_content:\n",
    "            label = True\n",
    "        else:\n",
    "            raise ValueError(\"Unexpected response format\")\n",
    "        \n",
    "        explanation = response_content.split(':', 1)[1].strip() if ':' in response_content else \"No explanation provided\"\n",
    "        \n",
    "        return {\"label\": label, \"explanation\": explanation}\n",
    "\n",
    "class ZeroShotMisinformationDetector:\n",
    "    def __init__(self, model_name=\"claude-3-haiku-20240307\", project_name=\"fake_news_detection\"):\n",
    "        self.llm = ChatAnthropic(model=model_name)\n",
    "        self.client = Client()\n",
    "        self.project_name = project_name\n",
    "        self.output_parser = MisinformationOutputParser()  # Initialize the parser\n",
    "\n",
    "    def detect(self, article: dict) -> dict:\n",
    "        article_title = article.get('article_title', '')\n",
    "        article_content = article.get('article_content', '')\n",
    "\n",
    "        # Define the system message\n",
    "        system_message = {\n",
    "            \"role\": \"system\",\n",
    "            \"content\": (\n",
    "                \"You are a fact-checking expert. Evaluate the following news article for accuracy. \"\n",
    "                \"If the article appears factual, respond with 'Credible'. If any part seems misleading or false, \"\n",
    "                \"respond with 'Fake' and provide a brief explanation.\"\n",
    "            )\n",
    "        }\n",
    "\n",
    "        user_message = {\n",
    "            \"role\": \"user\",\n",
    "            \"content\": f\"Title: {article_title}\\n\\nContent: {article_content}\"\n",
    "        }\n",
    "\n",
    "        # Create a RunTree instance for the run\n",
    "        run_tree = RunTree(\n",
    "            name=f\"Detection_{article['unit_id']}\",\n",
    "            run_type=\"llm\",\n",
    "            inputs={\"article_title\": article_title, \"article_content\": article_content},\n",
    "        )\n",
    "\n",
    "        # Invoke the LLM\n",
    "        response = self.llm.invoke([system_message, user_message])\n",
    "\n",
    "        response_content = response.content\n",
    "\n",
    "        # Use the output parser to process the response\n",
    "        parsed_result = self.output_parser.parse(response_content)\n",
    "\n",
    "        # End the run and log the outputs\n",
    "        run_tree.end(outputs={\n",
    "            \"is_misinformation\": parsed_result[\"is_misinformation\"],\n",
    "            \"details\": parsed_result[\"explanation\"]\n",
    "        })\n",
    "\n",
    "        # Post the run to log it in Langsmith\n",
    "        run_tree.post()\n",
    "\n",
    "        return parsed_result\n",
    "\n",
    "detector = ZeroShotMisinformationDetector()\n",
    "\n",
    "def detect_misinformation(state: State):\n",
    "    article = state[\"messages\"][-1]  # Assuming the article is the last message\n",
    "    detection_result = detector.detect(article)\n",
    "    return {\"messages\": [detection_result['details']]}\n",
    "\n",
    "\n",
    "# The first argument is the unique node name\n",
    "# The second argument is the function or object that will be called whenever\n",
    "# the node is used.\n",
    "graph_builder.add_node(\"detect_fake_news\", detect_misinformation)\n",
    "graph_builder.add_edge(START, \"detect_fake_news\")\n",
    "graph_builder.add_edge(\"detect_fake_news\", END)\n",
    "graph = graph_builder.compile()\n",
    "\n",
    "try:\n",
    "    display(Image(graph.get_graph().draw_mermaid_png()))\n",
    "except Exception:\n",
    "    # This requires some extra dependencies and is optional\n",
    "    print(Exception.with_traceback())\n",
    "    pass"
   ]
  },
  {
   "cell_type": "code",
   "execution_count": 13,
   "metadata": {},
   "outputs": [
    {
     "name": "stdout",
     "output_type": "stream",
     "text": [
      "{'unit_id': '1914947530', 'article_title': 'Syria attack symptoms consistent with nerve agent use WHO', 'article_content': 'Wed 05 Apr 2017 Syria attack symptoms consistent with nerve agent use WHO. Victims of a suspected chemical attack in Syria appeared to show symptoms consistent with reaction to a nerve agent the World Health Organization said on Wednesday. \"Some cases appear to show additional signs consistent with exposure to organophosphorus chemicals a category of chemicals that includes nerve agents\" WHO said in a statement putting the death toll at at least 70. The United States has said the deaths were caused by sarin nerve gas dropped by Syrian aircraft. Russia has said it believes poison gas had leaked from a rebel chemical weapons depot struck by Syrian bombs. Sarin is an organophosporus compound and a nerve agent. Chlorine and mustard gas which are also believed to have been used in the past in Syria are not. A Russian Defence Ministry spokesman did not say what agent was used in the attack but said the rebels had used the same chemical weapons in Aleppo last year. The WHO said it was likely that some kind of chemical was used in the attack because sufferers had no apparent external injuries and died from a rapid onset of similar symptoms including acute respiratory distress. It said its experts in Turkey were giving guidance to overwhelmed health workers in Idlib on the diagnosis and treatment of patients and medicines such as Atropine an antidote for some types of chemical exposure and steroids for symptomatic treatment had been sent. A U.N. Commission of Inquiry into human rights in Syria has previously said forces loyal to Syrian President Bashar al-Assad have used lethal chlorine gas on multiple occasions. Hundreds of civilians died in a sarin gas attack in Ghouta on the outskirts of Damascus in August 2013. Assads government has always denied responsibility for that attack. Syria agreed to destroy its chemical weapons in 2013 under a deal brokered by Moscow and Washington. But Russia a Syrian ally and China have repeatedly vetoed any United Nations move to sanction Assad or refer the situation in Syria to the International Criminal Court. \"These types of weapons are banned by international law because they represent an intolerable barbarism\" Peter Salama Executive Director of the WHO Health Emergencies Programme said in the WHO statement. - REUTERS', 'source': 'nna', 'date': '4/5/2017', 'location': 'idlib', 'labels': '0', '': ''}\n",
      "{'unit_id': '1914947532', 'article_title': 'Homs governor says U.S. attack caused deaths but doesnt see big human losses', 'article_content': 'Fri 07 Apr 2017 at 0914 Homs governor says U.S. attack caused deaths but doesnt see big human losses. A U.S. missile strike on an airbase near the Syrian city of Homs on Friday caused deaths but is not believed to have resulted in \"big human casualties\" Homs Governor Talal Barazi said. Barazi said the attack served the interests of \"armed terrorist groups\" including Islamic State adding that the targeted airbase had been providing air support for army operations against Islamic State east of Palmyra. Barazi was speaking in a series of phone interviews with media on Friday. He confirmed deaths at the airbase in a phone interview with Lebanese TV station al-Mayadeen. \"I believe - God willing - that the human casualties are not big but there is material damage. We hope there are not many victims and martyrs\" he told Reuters by telephone. Speaking at dawn he said rescue and fire-fighting operations had been going on for two hours at the base. He said the attack was a form of \"support for the armed terrorist groups and it is an attempt to weaken the capabilities of the Syrian Arab Army to combat terrorism\". Speaking to Syrian state TV Barazi said \"The Syrian leadership and Syrian policy will not change. \"This targeting was not the first and I dont believe it will be the last\" he added. In separate comments to al-Mayadeen he said \"The war against terrorism will continue.\" U.S. President Donald Trump said he ordered missile strikes against an airfield from which a deadly chemical weapons attack was launched this week declaring he acted in Americas \"national security interest\" against Syrian President Bashar al-Assad. U.S. officials said the military fired dozens of cruise missiles against the base in response to the suspected gas attack in a rebel-held area that Washington has blamed on Assads forces. The Syrian government has strongly denied responsibility. The U.S. strikes \"targeted military positions in Syria and in Homs specifically\" in order to publicly \"serve the goals of terrorism in Syria and the goals of Israel in the long run\" Barazi added in his interview with state TV.-REUTERS', 'source': 'nna', 'date': '4/7/2017', 'location': 'homs', 'labels': '0', '': ''}\n",
      "Article 1 Result: {'is_misinformation': False, 'explanation': 'No explanation provided'}\n",
      "Article 2 Result: {'is_misinformation': True, 'explanation': '1. The article claims that the U.S. attack \"caused deaths but is not believed to have resulted in \\'big human casualties\\'\". However, it later contradicts this by quoting the Homs governor saying \"I believe - God willing - that the human casualties are not big but there is material damage. We hope there are not many victims and martyrs.\" This suggests there were some human casualties, rather than no \"big human casualties\" as initially stated.\\n\\n2. The article states that the Homs governor said the attack \"served the interests of \\'armed terrorist groups\\' including Islamic State\". However, this is a subjective assessment and not a factual statement. The article does not provide evidence to support this claim.\\n\\n3. The article quotes the Homs governor saying the attack was \"an attempt to weaken the capabilities of the Syrian Arab Army to combat terrorism\". Again, this is a subjective interpretation and not a verifiable fact.\\n\\nOverall, while the article provides some factual details about the U.S. missile strike, it contains questionable statements and subjective interpretations that are not well-supported. Therefore, the article cannot be considered entirely factual.'}\n"
     ]
    }
   ],
   "source": [
    "results = []\n",
    "for article in articles[:2]:\n",
    "    print(article)\n",
    "    detection_result = detector.detect(article)\n",
    "    results.append(detection_result)\n",
    "\n",
    "# Print or store the results\n",
    "for idx, result in enumerate(results):\n",
    "    print(f\"Article {idx + 1} Result: {result}\")"
   ]
  },
  {
   "cell_type": "code",
   "execution_count": 7,
   "metadata": {},
   "outputs": [],
   "source": [
    "from pydantic import BaseModel\n",
    "\n",
    "class MisinformationOutput(BaseModel):\n",
    "    is_misinformation:  Annotated[bool, ..., \"Whether the article is misinformation (True) or credible (False)\"]\n",
    "    explanation:  Annotated[str, ..., \"Reasoning behind the classification\"]\n",
    "\n",
    "from langchain.output_parsers import PydanticOutputParser"
   ]
  },
  {
   "cell_type": "code",
   "execution_count": 8,
   "metadata": {},
   "outputs": [],
   "source": [
    "from langsmith.run_helpers import traceable\n",
    "from langchain_core.prompts import ChatPromptTemplate\n"
   ]
  },
  {
   "cell_type": "code",
   "execution_count": 9,
   "metadata": {},
   "outputs": [],
   "source": [
    "dataset_name = \"FA-KES\""
   ]
  },
  {
   "cell_type": "code",
   "execution_count": 10,
   "metadata": {},
   "outputs": [
    {
     "data": {
      "image/jpeg": "[encoded data removed]",
      "text/plain": [
       "<IPython.core.display.Image object>"
      ]
     },
     "metadata": {},
     "output_type": "display_data"
    }
   ],
   "source": [
    "class State(TypedDict):\n",
    "    # Messages have the type \"list\". The `add_messages` function\n",
    "    # in the annotation defines how this state key should be updated\n",
    "    # (in this case, it appends messages to the list, rather than overwriting them)\n",
    "    messages: Annotated[list, add_messages]\n",
    "graph_builder = StateGraph(State)\n",
    "\n",
    "class ZeroShotMisinformationDetector:\n",
    "    def __init__(self, model_name=\"claude-3-haiku-20240307\", project_name=\"fake_news_detection\"):\n",
    "        self.llm = ChatAnthropic(model=model_name)\n",
    "        self.client = Client()\n",
    "        self.project_name = project_name\n",
    "\n",
    "    # You can add tags and metadata (or even the project name) directly in the decorator\n",
    "    @traceable(\n",
    "        run_type=\"chain\",\n",
    "        name=f\"ZeroShot_{dataset_name}\",\n",
    "        tags=[\"tutorial\"],\n",
    "        metadata={\"githash\": \"e38f04c83\"},\n",
    "        project_name=\"fake_news_detection\"\n",
    "    )\n",
    "    def detect(self, article: dict) -> dict:\n",
    "        article_title = article.get('article_title', '')\n",
    "        article_content = article.get('article_content', '')\n",
    "\n",
    "        # Define the system message\n",
    "        system_message = \"\"\"\n",
    "                You are a fact-checking expert. Evaluate the following news article for accuracy. \n",
    "                If the article appears factual, respond with '1'. If any part seems misleading or false, \n",
    "                respond with '0' and provide a brief explanation.\n",
    "        \"\"\"\n",
    "\n",
    "\n",
    "        prompt = ChatPromptTemplate.from_messages([(\"system\", system_message), (\"human\",\"{input}\")])\n",
    "        \n",
    "        # Invoke the LLM\n",
    "        structured_llm = self.llm.with_structured_output(MisinformationOutput, include_raw=True)\n",
    "        zero_shot_structured_llm = prompt | structured_llm\n",
    "        result = zero_shot_structured_llm.invoke(f\"Title: {article_title}\\n\\nContent: {article_content}\")\n",
    "\n",
    "        return result\n",
    "\n",
    "detector = ZeroShotMisinformationDetector()\n",
    "\n",
    "def detect_misinformation(state: State):\n",
    "    article = state[\"messages\"][-1]  # Assuming the article is the last message\n",
    "    detection_result = detector.detect(article)\n",
    "    return {\"messages\": [detection_result['details']]}\n",
    "\n",
    "\n",
    "# The first argument is the unique node name\n",
    "# The second argument is the function or object that will be called whenever\n",
    "# the node is used.\n",
    "graph_builder.add_node(\"detect_fake_news\", detect_misinformation)\n",
    "graph_builder.add_edge(START, \"detect_fake_news\")\n",
    "graph_builder.add_edge(\"detect_fake_news\", END)\n",
    "graph = graph_builder.compile()\n",
    "\n",
    "try:\n",
    "    display(Image(graph.get_graph().draw_mermaid_png()))\n",
    "except Exception:\n",
    "    # This requires some extra dependencies and is optional\n",
    "    print(Exception.with_traceback())\n",
    "    pass"
   ]
  },
  {
   "cell_type": "code",
   "execution_count": 11,
   "metadata": {},
   "outputs": [
    {
     "name": "stdout",
     "output_type": "stream",
     "text": [
      "{'unit_id': '1914947530', 'article_title': 'Syria attack symptoms consistent with nerve agent use WHO', 'article_content': 'Wed 05 Apr 2017 Syria attack symptoms consistent with nerve agent use WHO. Victims of a suspected chemical attack in Syria appeared to show symptoms consistent with reaction to a nerve agent the World Health Organization said on Wednesday. \"Some cases appear to show additional signs consistent with exposure to organophosphorus chemicals a category of chemicals that includes nerve agents\" WHO said in a statement putting the death toll at at least 70. The United States has said the deaths were caused by sarin nerve gas dropped by Syrian aircraft. Russia has said it believes poison gas had leaked from a rebel chemical weapons depot struck by Syrian bombs. Sarin is an organophosporus compound and a nerve agent. Chlorine and mustard gas which are also believed to have been used in the past in Syria are not. A Russian Defence Ministry spokesman did not say what agent was used in the attack but said the rebels had used the same chemical weapons in Aleppo last year. The WHO said it was likely that some kind of chemical was used in the attack because sufferers had no apparent external injuries and died from a rapid onset of similar symptoms including acute respiratory distress. It said its experts in Turkey were giving guidance to overwhelmed health workers in Idlib on the diagnosis and treatment of patients and medicines such as Atropine an antidote for some types of chemical exposure and steroids for symptomatic treatment had been sent. A U.N. Commission of Inquiry into human rights in Syria has previously said forces loyal to Syrian President Bashar al-Assad have used lethal chlorine gas on multiple occasions. Hundreds of civilians died in a sarin gas attack in Ghouta on the outskirts of Damascus in August 2013. Assads government has always denied responsibility for that attack. Syria agreed to destroy its chemical weapons in 2013 under a deal brokered by Moscow and Washington. But Russia a Syrian ally and China have repeatedly vetoed any United Nations move to sanction Assad or refer the situation in Syria to the International Criminal Court. \"These types of weapons are banned by international law because they represent an intolerable barbarism\" Peter Salama Executive Director of the WHO Health Emergencies Programme said in the WHO statement. - REUTERS', 'source': 'nna', 'date': '4/5/2017', 'location': 'idlib', 'labels': '0', '': ''}\n",
      "{'unit_id': '1914947532', 'article_title': 'Homs governor says U.S. attack caused deaths but doesnt see big human losses', 'article_content': 'Fri 07 Apr 2017 at 0914 Homs governor says U.S. attack caused deaths but doesnt see big human losses. A U.S. missile strike on an airbase near the Syrian city of Homs on Friday caused deaths but is not believed to have resulted in \"big human casualties\" Homs Governor Talal Barazi said. Barazi said the attack served the interests of \"armed terrorist groups\" including Islamic State adding that the targeted airbase had been providing air support for army operations against Islamic State east of Palmyra. Barazi was speaking in a series of phone interviews with media on Friday. He confirmed deaths at the airbase in a phone interview with Lebanese TV station al-Mayadeen. \"I believe - God willing - that the human casualties are not big but there is material damage. We hope there are not many victims and martyrs\" he told Reuters by telephone. Speaking at dawn he said rescue and fire-fighting operations had been going on for two hours at the base. He said the attack was a form of \"support for the armed terrorist groups and it is an attempt to weaken the capabilities of the Syrian Arab Army to combat terrorism\". Speaking to Syrian state TV Barazi said \"The Syrian leadership and Syrian policy will not change. \"This targeting was not the first and I dont believe it will be the last\" he added. In separate comments to al-Mayadeen he said \"The war against terrorism will continue.\" U.S. President Donald Trump said he ordered missile strikes against an airfield from which a deadly chemical weapons attack was launched this week declaring he acted in Americas \"national security interest\" against Syrian President Bashar al-Assad. U.S. officials said the military fired dozens of cruise missiles against the base in response to the suspected gas attack in a rebel-held area that Washington has blamed on Assads forces. The Syrian government has strongly denied responsibility. The U.S. strikes \"targeted military positions in Syria and in Homs specifically\" in order to publicly \"serve the goals of terrorism in Syria and the goals of Israel in the long run\" Barazi added in his interview with state TV.-REUTERS', 'source': 'nna', 'date': '4/7/2017', 'location': 'homs', 'labels': '0', '': ''}\n",
      "Article 1 Result: {'raw': AIMessage(content=[{'id': 'toolu_014thAUvSTrjsm5espY1vSK7', 'input': {'explanation': 'The article appears to be factual and based on information from the World Health Organization (WHO) about the symptoms of the suspected chemical attack in Syria. The article also cites information from the United Nations and Reuters. There is no indication that the information provided is misleading or false.', 'is_misinformation': '0'}, 'name': 'MisinformationOutput', 'type': 'tool_use'}], response_metadata={'id': 'msg_019YtgtLbhw49ywD3FhjcyWr', 'model': 'claude-3-haiku-20240307', 'stop_reason': 'tool_use', 'stop_sequence': None, 'usage': {'input_tokens': 1494, 'output_tokens': 109}}, id='run-31253b73-534c-4f22-95d6-50be68446665-0', tool_calls=[{'name': 'MisinformationOutput', 'args': {'explanation': 'The article appears to be factual and based on information from the World Health Organization (WHO) about the symptoms of the suspected chemical attack in Syria. The article also cites information from the United Nations and Reuters. There is no indication that the information provided is misleading or false.', 'is_misinformation': '0'}, 'id': 'toolu_014thAUvSTrjsm5espY1vSK7', 'type': 'tool_call'}], usage_metadata={'input_tokens': 1494, 'output_tokens': 109, 'total_tokens': 1603}), 'parsed': {'explanation': 'The article appears to be factual and based on information from the World Health Organization (WHO) about the symptoms of the suspected chemical attack in Syria. The article also cites information from the United Nations and Reuters. There is no indication that the information provided is misleading or false.', 'is_misinformation': '0'}, 'parsing_error': None}\n",
      "Article 2 Result: {'raw': AIMessage(content=[{'id': 'toolu_01866AkmgF8o974LQa3gXNNw', 'input': {'explanation': 'The article appears to be factual, with quotes from the Homs governor confirming the U.S. missile strike on an airbase near Homs and its impact. The article also includes statements from the U.S. President and Syrian government about the reasons and consequences of the strike. There is no obvious misinformation or falsehoods in the content.', 'is_misinformation': '0'}, 'name': 'MisinformationOutput', 'type': 'tool_use'}], response_metadata={'id': 'msg_014aSdLbWNz1DmWqxx2yaDEr', 'model': 'claude-3-haiku-20240307', 'stop_reason': 'tool_use', 'stop_sequence': None, 'usage': {'input_tokens': 1499, 'output_tokens': 127}}, id='run-2cb39b1f-ae9b-4bb6-b40b-f73cd9a3b47f-0', tool_calls=[{'name': 'MisinformationOutput', 'args': {'explanation': 'The article appears to be factual, with quotes from the Homs governor confirming the U.S. missile strike on an airbase near Homs and its impact. The article also includes statements from the U.S. President and Syrian government about the reasons and consequences of the strike. There is no obvious misinformation or falsehoods in the content.', 'is_misinformation': '0'}, 'id': 'toolu_01866AkmgF8o974LQa3gXNNw', 'type': 'tool_call'}], usage_metadata={'input_tokens': 1499, 'output_tokens': 127, 'total_tokens': 1626}), 'parsed': {'explanation': 'The article appears to be factual, with quotes from the Homs governor confirming the U.S. missile strike on an airbase near Homs and its impact. The article also includes statements from the U.S. President and Syrian government about the reasons and consequences of the strike. There is no obvious misinformation or falsehoods in the content.', 'is_misinformation': '0'}, 'parsing_error': None}\n"
     ]
    }
   ],
   "source": [
    "results = []\n",
    "for article in articles[:2]:\n",
    "    print(article)\n",
    "    detection_result = detector.detect(article)\n",
    "    results.append(detection_result)\n",
    "\n",
    "# Print or store the results\n",
    "for idx, result in enumerate(results):\n",
    "    print(f\"Article {idx + 1} Result: {result}\")"
   ]
  },
  {
   "cell_type": "code",
   "execution_count": 12,
   "metadata": {},
   "outputs": [
    {
     "data": {
      "text/plain": [
       "{'explanation': 'The article appears to be factual and does not contain any misleading or false information. It reports on statements made by the Homs governor regarding the U.S. missile strike on a Syrian airbase, including his assessment that there were deaths but no \"big human casualties\". The article also provides context on the U.S. rationale for the strike and the Syrian government\\'s denial of responsibility for the chemical weapons attack.',\n",
       " 'is_misinformation': 'False'}"
      ]
     },
     "execution_count": 12,
     "metadata": {},
     "output_type": "execute_result"
    }
   ],
   "source": [
    "results[1]['parsed']"
   ]
  },
  {
   "cell_type": "code",
   "execution_count": 14,
   "metadata": {},
   "outputs": [
    {
     "data": {
      "text/html": [
       "<div>\n",
       "<style scoped>\n",
       "    .dataframe tbody tr th:only-of-type {\n",
       "        vertical-align: middle;\n",
       "    }\n",
       "\n",
       "    .dataframe tbody tr th {\n",
       "        vertical-align: top;\n",
       "    }\n",
       "\n",
       "    .dataframe thead th {\n",
       "        text-align: right;\n",
       "    }\n",
       "</style>\n",
       "<table border=\"1\" class=\"dataframe\">\n",
       "  <thead>\n",
       "    <tr style=\"text-align: right;\">\n",
       "      <th></th>\n",
       "      <th>unit_id</th>\n",
       "      <th>article_title</th>\n",
       "      <th>article_content</th>\n",
       "      <th>source</th>\n",
       "      <th>date</th>\n",
       "      <th>location</th>\n",
       "      <th>labels</th>\n",
       "      <th>Unnamed: 7</th>\n",
       "      <th>Unnamed: 8</th>\n",
       "      <th>Unnamed: 9</th>\n",
       "      <th>Unnamed: 10</th>\n",
       "    </tr>\n",
       "  </thead>\n",
       "  <tbody>\n",
       "    <tr>\n",
       "      <th>0</th>\n",
       "      <td>1914947530</td>\n",
       "      <td>Syria attack symptoms consistent with nerve ag...</td>\n",
       "      <td>Wed 05 Apr 2017 Syria attack symptoms consiste...</td>\n",
       "      <td>nna</td>\n",
       "      <td>4/5/2017</td>\n",
       "      <td>idlib</td>\n",
       "      <td>0</td>\n",
       "      <td>NaN</td>\n",
       "      <td>NaN</td>\n",
       "      <td>NaN</td>\n",
       "      <td>NaN</td>\n",
       "    </tr>\n",
       "    <tr>\n",
       "      <th>1</th>\n",
       "      <td>1914947532</td>\n",
       "      <td>Homs governor says U.S. attack caused deaths b...</td>\n",
       "      <td>Fri 07 Apr 2017 at 0914 Homs governor says U.S...</td>\n",
       "      <td>nna</td>\n",
       "      <td>4/7/2017</td>\n",
       "      <td>homs</td>\n",
       "      <td>0</td>\n",
       "      <td>NaN</td>\n",
       "      <td>NaN</td>\n",
       "      <td>NaN</td>\n",
       "      <td>NaN</td>\n",
       "    </tr>\n",
       "    <tr>\n",
       "      <th>2</th>\n",
       "      <td>1914947533</td>\n",
       "      <td>Death toll from Aleppo bomb attack at least 112</td>\n",
       "      <td>Sun 16 Apr 2017 Death toll from Aleppo bomb at...</td>\n",
       "      <td>nna</td>\n",
       "      <td>4/16/2017</td>\n",
       "      <td>aleppo</td>\n",
       "      <td>0</td>\n",
       "      <td>NaN</td>\n",
       "      <td>NaN</td>\n",
       "      <td>NaN</td>\n",
       "      <td>NaN</td>\n",
       "    </tr>\n",
       "    <tr>\n",
       "      <th>3</th>\n",
       "      <td>1914947534</td>\n",
       "      <td>Aleppo bomb blast kills six Syrian state TV</td>\n",
       "      <td>Wed 19 Apr 2017 Aleppo bomb blast kills six Sy...</td>\n",
       "      <td>nna</td>\n",
       "      <td>4/19/2017</td>\n",
       "      <td>aleppo</td>\n",
       "      <td>0</td>\n",
       "      <td>NaN</td>\n",
       "      <td>NaN</td>\n",
       "      <td>NaN</td>\n",
       "      <td>NaN</td>\n",
       "    </tr>\n",
       "    <tr>\n",
       "      <th>4</th>\n",
       "      <td>1914947535</td>\n",
       "      <td>29 Syria Rebels Dead in Fighting for Key Alepp...</td>\n",
       "      <td>Sun 10 Jul 2016 29 Syria Rebels Dead in Fighti...</td>\n",
       "      <td>nna</td>\n",
       "      <td>7/10/2016</td>\n",
       "      <td>aleppo</td>\n",
       "      <td>0</td>\n",
       "      <td>NaN</td>\n",
       "      <td>NaN</td>\n",
       "      <td>NaN</td>\n",
       "      <td>NaN</td>\n",
       "    </tr>\n",
       "  </tbody>\n",
       "</table>\n",
       "</div>"
      ],
      "text/plain": [
       "      unit_id                                      article_title  \\\n",
       "0  1914947530  Syria attack symptoms consistent with nerve ag...   \n",
       "1  1914947532  Homs governor says U.S. attack caused deaths b...   \n",
       "2  1914947533    Death toll from Aleppo bomb attack at least 112   \n",
       "3  1914947534        Aleppo bomb blast kills six Syrian state TV   \n",
       "4  1914947535  29 Syria Rebels Dead in Fighting for Key Alepp...   \n",
       "\n",
       "                                     article_content source       date  \\\n",
       "0  Wed 05 Apr 2017 Syria attack symptoms consiste...    nna   4/5/2017   \n",
       "1  Fri 07 Apr 2017 at 0914 Homs governor says U.S...    nna   4/7/2017   \n",
       "2  Sun 16 Apr 2017 Death toll from Aleppo bomb at...    nna  4/16/2017   \n",
       "3  Wed 19 Apr 2017 Aleppo bomb blast kills six Sy...    nna  4/19/2017   \n",
       "4  Sun 10 Jul 2016 29 Syria Rebels Dead in Fighti...    nna  7/10/2016   \n",
       "\n",
       "  location  labels  Unnamed: 7  Unnamed: 8  Unnamed: 9 Unnamed: 10  \n",
       "0    idlib       0         NaN         NaN         NaN         NaN  \n",
       "1     homs       0         NaN         NaN         NaN         NaN  \n",
       "2   aleppo       0         NaN         NaN         NaN         NaN  \n",
       "3   aleppo       0         NaN         NaN         NaN         NaN  \n",
       "4   aleppo       0         NaN         NaN         NaN         NaN  "
      ]
     },
     "execution_count": 14,
     "metadata": {},
     "output_type": "execute_result"
    }
   ],
   "source": [
    "articles_df.head()"
   ]
  },
  {
   "cell_type": "code",
   "execution_count": 16,
   "metadata": {},
   "outputs": [],
   "source": [
    "client = Client()"
   ]
  },
  {
   "cell_type": "code",
   "execution_count": 17,
   "metadata": {},
   "outputs": [],
   "source": [
    "input_keys = ['unit_id', 'article_title','article_content','source','date','location']\n",
    "output_keys = ['labels']\n",
    "\n",
    "dataset = client.upload_dataframe(\n",
    "    df=articles_df,\n",
    "    input_keys=input_keys,\n",
    "    output_keys=output_keys,\n",
    "    name=\"FA-KES\",\n",
    "    description=\"FA-KES Syrian War dataset\",\n",
    "    data_type=\"kv\" # The default\n",
    ")"
   ]
  },
  {
   "cell_type": "code",
   "execution_count": 16,
   "metadata": {},
   "outputs": [],
   "source": [
    "from langsmith.schemas import Example, Run\n",
    "\n",
    "def correct_label(root_run: Run, example: Example) -> dict:\n",
    "    score = root_run.outputs.get(\"output\") == example.outputs.get(\"label\")\n",
    "    return {\"score\": int(score), \"key\": \"correct_label\"}\n",
    "\n"
   ]
  },
  {
   "cell_type": "code",
   "execution_count": null,
   "metadata": {},
   "outputs": [],
   "source": [
    "from langsmith.evaluation import evaluate\n",
    "\n",
    "dataset_name = \"Toxic Queries\"\n",
    "\n",
    "results = evaluate(\n",
    "    lambda inputs: label_text(inputs[\"text\"]),\n",
    "    data=dataset_name,\n",
    "    evaluators=[correct_label],\n",
    "    experiment_prefix=\"Toxic Queries\",\n",
    "    description=\"Testing the baseline system.\",  # optional\n",
    ")"
   ]
  }
 ],
 "metadata": {
  "kernelspec": {
   "display_name": "dissertation_venv",
   "language": "python",
   "name": "python3"
  },
  "language_info": {
   "codemirror_mode": {
    "name": "ipython",
    "version": 3
   },
   "file_extension": ".py",
   "mimetype": "text/x-python",
   "name": "python",
   "nbconvert_exporter": "python",
   "pygments_lexer": "ipython3",
   "version": "3.10.4"
  }
 },
 "nbformat": 4,
 "nbformat_minor": 2
}
