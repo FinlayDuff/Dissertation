{
 "cells": [
  {
   "cell_type": "markdown",
   "metadata": {},
   "source": [
    "# Setup\n",
    "## Import libraries"
   ]
  },
  {
   "cell_type": "code",
   "execution_count": 1,
   "metadata": {},
   "outputs": [],
   "source": [
    "# Import the libraries and set the paths\n",
    "import sys\n",
    "import os\n",
    "notebook_dir = os.getcwd()\n",
    "root = os.path.abspath(os.path.join(notebook_dir, '../../'))\n",
    "sys.path.append(root)\n",
    "from IPython.display import Image, display\n",
    "\n",
    "from utils.data.csv_parsing import load_csv_as_dicts, load_csv_as_dataframe\n",
    "from utils.langchain.llm_model_selector import get_llm_from_model_name\n",
    "\n",
    "import getpass\n",
    "from pydantic import BaseModel\n",
    "from typing import Annotated\n",
    "from typing_extensions import TypedDict\n",
    "\n",
    "from langgraph.graph import StateGraph, START, END\n",
    "from langgraph.graph.message import add_messages\n",
    "from langchain_anthropic import ChatAnthropic\n",
    "from langchain_core.prompts import ChatPromptTemplate\n",
    "from langsmith.evaluation import evaluate\n",
    "from langsmith.schemas import Example, Run\n",
    "\n"
   ]
  },
  {
   "cell_type": "markdown",
   "metadata": {},
   "source": [
    "## Load Data"
   ]
  },
  {
   "cell_type": "code",
   "execution_count": 2,
   "metadata": {},
   "outputs": [],
   "source": [
    "article_path = '/data/transformed/FA-KES.csv'\n",
    "\n",
    "articles = load_csv_as_dicts(root+article_path)\n",
    "articles_df = load_csv_as_dataframe(root+article_path)"
   ]
  },
  {
   "cell_type": "markdown",
   "metadata": {},
   "source": [
    "## Load API Keys"
   ]
  },
  {
   "cell_type": "code",
   "execution_count": 3,
   "metadata": {},
   "outputs": [],
   "source": [
    "def _set_env(var: str):\n",
    "    if not os.environ.get(var):\n",
    "        os.environ[var] = getpass.getpass(f\"{var}: \")\n",
    "\n",
    "\n",
    "_set_env(\"ANTHROPIC_API_KEY\")\n",
    "_set_env(\"LANGSMITH_API_KEY\")\n",
    "_set_env(\"OPENAI_API_KEY\")\n",
    "os.environ[\"LANGCHAIN_TRACING_V2\"] = \"true\"\n",
    "os.environ[\"LANGCHAIN_PROJECT\"] = \"FakeNews Detection\""
   ]
  },
  {
   "cell_type": "markdown",
   "metadata": {},
   "source": [
    "# Graph Definition"
   ]
  },
  {
   "cell_type": "code",
   "execution_count": 4,
   "metadata": {},
   "outputs": [],
   "source": [
    "open_ai_model_name = 'gpt-4o-mini-2024-07-18'\n",
    "anthropic_model_name = 'claude-3-haiku-20240307'"
   ]
  },
  {
   "cell_type": "code",
   "execution_count": 5,
   "metadata": {},
   "outputs": [
    {
     "name": "stderr",
     "output_type": "stream",
     "text": [
      "/Users/finlayduff/.pyenv/versions/3.10.4/envs/fakenews_venv/lib/python3.10/site-packages/tqdm/auto.py:21: TqdmWarning: IProgress not found. Please update jupyter and ipywidgets. See https://ipywidgets.readthedocs.io/en/stable/user_install.html\n",
      "  from .autonotebook import tqdm as notebook_tqdm\n"
     ]
    },
    {
     "name": "stdout",
     "output_type": "stream",
     "text": [
      "View the evaluation results for experiment: 'basic_classification_few_shot_classification_gpt-4o-mini-2024-07-18_FA-KES test-980ee056' at:\n",
      "https://smith.langchain.com/o/7ade50a2-3a1f-5106-9003-6a8cfb7b3652/datasets/ffa23208-7472-4ba3-b3c2-2efe90ff9c8f/compare?selectedSessions=d8eedf33-e863-4c46-8a5f-ef87a62ac4e7\n",
      "\n",
      "\n"
     ]
    },
    {
     "name": "stderr",
     "output_type": "stream",
     "text": [
      "100it [00:33,  3.00it/s]\n"
     ]
    }
   ],
   "source": [
    "# main.py\n",
    "\n",
    "from core.experiment import Experiment\n",
    "\n",
    "# Define the prompt name\n",
    "# prompt_name = \"naive_zero_shot_classification\"\n",
    "# prompt_name = \"robust_zero_shot_classification\"\n",
    "prompt_name = \"few_shot_classification\"\n",
    "\n",
    "\n",
    "# Instantiate the experiment\n",
    "experiment = Experiment(\n",
    "    prompt_name=prompt_name,\n",
    "    model_name=open_ai_model_name,\n",
    "    dataset_name=\"FA-KES test\",\n",
    "    description=\"Evaluating graph-based misinformation detection system.\",\n",
    "    experiment_type=\"basic_classification\"\n",
    ")\n",
    "\n",
    "# Run the evaluation\n",
    "results = experiment.run_evaluation()"
   ]
  }
 ],
 "metadata": {
  "kernelspec": {
   "display_name": "dissertation_venv",
   "language": "python",
   "name": "python3"
  },
  "language_info": {
   "codemirror_mode": {
    "name": "ipython",
    "version": 3
   },
   "file_extension": ".py",
   "mimetype": "text/x-python",
   "name": "python",
   "nbconvert_exporter": "python",
   "pygments_lexer": "ipython3",
   "version": "3.10.4"
  }
 },
 "nbformat": 4,
 "nbformat_minor": 2
}
